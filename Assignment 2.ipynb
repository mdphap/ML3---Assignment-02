{
 "cells": [
  {
   "cell_type": "code",
   "execution_count": 2,
   "metadata": {},
   "outputs": [],
   "source": [
    "Assignment 02 - Movie data set\n",
    "Student: Mai Dang Phap\n",
    "    \n",
    "Table of contents\n",
    "I. Phân tích ảnh hưởng của 'production_countries' lên 'revenue' (câu 1)\n",
    "1. Thống kê mô tả 'revenue'\n",
    " 1.1. (loại các quan sát outliers) ('phim phổ thông')\n",
    " 1.2. Revenue (outliers) ('phim bom tấn')\n",
    " 1.3. Revenue bimodal distribution\n",
    "2. Thống kê mô tả 'production_countries'\n",
    " 2.1. Xử lý dữ liệu\n",
    "3. ANOVA\n",
    " 3.1. Thống kê mô tả của các nhóm\n",
    " 3.2. Kiểm định one-way ANOVA\n",
    "  a) Kiểm định ANOVA cho tập tổng thể\n",
    "  b) Kiểm định ANOVA cho tập 'phim phổ thông'\n",
    "  c) Kiểm định ANOVA cho tập 'phim bom tấn'\n",
    " 3.3. Kết luận câu 1\n",
    "II. Ảnh hưởng của 'genres' đến 'revenue' và 'vote_average' (câu 2)\n",
    "1. Thống kê mô tả 'vota_average'\n",
    "2. Xử lý dữ liệu\n",
    "3. Kiểm định ANOVA\n",
    "4. Kết luận\n",
    "III. Ảnh hưởng của 'release_date' đến 'revenue' (câu 3)\n",
    "1. Xử lý dữ liệu\n",
    "2. Thống kê mô tả theo các tháng\n",
    "3. Kiểm định giả thuyết bằng kiểm định Mann-Whitney\n",
    "4. Kết luận\n",
    "\n",
    "== TỔNG HỢP KẾT LUẬN PHÂN TÍCH ==\n",
    "1. Câu 1\n",
    "- Doanh thu trung bình của các phim chia thành hai nhóm là nhóm 'phim phổ thông' với doanh thu phổ biến\n",
    "trong mức từ $0M đến$231M và nhóm 'phim bom tấn' với doanh thu từ $232M đến $2783M. Các 'phim bom tấn'\n",
    "chủ yếu được sản xuất tại Hoa Kỳ (US) và Anh (GB) .\n",
    "- Trong nhóm 'phim phổ thông', các phim sản xuất tại Đức (DE) hoặc Hoa Kỳ (US) có doanh thu trung bình\n",
    "cao hơn với các phim sản xuất ở các nước còn lại.\n",
    "- Trong nhóm 'phim bom tấn', các phim sản xuất tại Anh (GB) có doanh thu trung bình cao hơn sản xuất\n",
    "tại Hoa Kỳ (US).\n",
    "\n",
    "2. Câu 2\n",
    "- Thể loại phim có ảnh hưởng đến doanh thu trung bình của phim, cụ thể:\n",
    "    + Các phim thuộc thể loại Animation, Advanture, Fantasy, Family, Science Fiction và Action có doanh\n",
    "    thu TB cao hơn các phim thuộc thể loại còn lại.\n",
    "    + Trong đó, các phim đồng thời có các thể loại ['Action', 'Adventure', 'Science Fiction'] có doanh\n",
    "    thu TB vượt trội, kế đến là các phim có nhóm thể loại là ['Action', 'Adventure', 'Thriller'] và hai\n",
    "    nhóm này có doanh thu cao hơn các phim thuộc các nhóm thể loại còn lại.\n",
    "    \n",
    "- Thể loại phim có ảnh hưởng đến điểm số trung bình của phim, cụ thể:\n",
    "    + Các phim thuộc thể loại History và War có điểm số trung bình cao hơn các phim thuộc các thể loại\n",
    "    còn lại\n",
    "    \n",
    "- Mối tương quan giữa doanh thu và điểm số của phim là không đáng kể\n",
    "\n",
    "3. Câu 3\n",
    "- Các phim phát hành vào mùa cao điểm có doanh thu tốt hơn phim phát hành và mùa thấp điểm\n",
    "- Mùa cao điểm là các tháng 5 , tháng 6, tháng 7 (mùa hè) và tháng 11, tháng 12 (mùa Giáng Sinh)"
   ]
  },
  {
   "cell_type": "code",
   "execution_count": 1,
   "metadata": {},
   "outputs": [],
   "source": [
    "import pandas as pd\n",
    "import numpy as np\n",
    "import seaborn as sns\n",
    "import json\n",
    "from scipy import stats\n",
    "data = pd.read_csv(r'D:\\Machine Learning 3\\Week 2 Material\\tmdb_5000_movies.csv')\n",
    "#data = pd.read_csv(r'C:\\Users\\TVHIEPPC\\Desktop\\tmdb_5000_movies.csv')"
   ]
  },
  {
   "cell_type": "code",
   "execution_count": 2,
   "metadata": {},
   "outputs": [],
   "source": [
    "# decode json string của production_countries thành dạng list\n",
    "def area_json_decode(json_string):\n",
    "    json_data = json.loads(json_string)\n",
    "    data_list = []\n",
    "    for data_dict in json_data:\n",
    "        data_list.append(data_dict['iso_3166_1'])\n",
    "    data_list.sort()\n",
    "    return data_list"
   ]
  },
  {
   "cell_type": "code",
   "execution_count": 3,
   "metadata": {},
   "outputs": [],
   "source": [
    "# decode json string của genres thành dạng list\n",
    "def genres_json_decode(json_string):\n",
    "    json_data = json.loads(json_string)\n",
    "    data_list = []\n",
    "    for data_dict in json_data:\n",
    "        data_list.append(data_dict['name'])\n",
    "    data_list.sort()\n",
    "    return data_list"
   ]
  },
  {
   "cell_type": "code",
   "execution_count": 4,
   "metadata": {},
   "outputs": [],
   "source": [
    "# xử lý dữ liệu production_countries\n",
    "def area_transformation(data_old):\n",
    "    data_new = pd.DataFrame()\n",
    "    for index, data_row in data_old.iterrows():\n",
    "        for area in data_row['production_countries']:\n",
    "            data_new = data_new.append(data_row, ignore_index = True)\n",
    "            data_new.loc[len(data_new.index) - 1, 'production_countries'] = area\n",
    "    return data_new"
   ]
  },
  {
   "cell_type": "code",
   "execution_count": 5,
   "metadata": {},
   "outputs": [],
   "source": [
    "# xử lý dữ liệu genres\n",
    "def genres_transformation(data_old):\n",
    "    data_new = pd.DataFrame()\n",
    "    for index, data_row in data_old.iterrows():\n",
    "        for genre in data_row['genres']:\n",
    "            data_new = data_new.append(data_row, ignore_index = True)\n",
    "            data_new.loc[len(data_new.index) - 1, 'genres'] = genre\n",
    "    return data_new"
   ]
  },
  {
   "cell_type": "code",
   "execution_count": 6,
   "metadata": {},
   "outputs": [],
   "source": [
    "# parsing groupby object for ANOVA testing\n",
    "def ANOVA_parsing(*args):\n",
    "    data_list = []\n",
    "    for i in args:\n",
    "        data_list.append(i[1].values)\n",
    "    return data_list"
   ]
  },
  {
   "cell_type": "code",
   "execution_count": 7,
   "metadata": {},
   "outputs": [],
   "source": [
    "data['production_countries'] = data['production_countries'].map(area_json_decode) # decode area json\n",
    "data['genres'] = data['genres'].map(genres_json_decode) # decode genres json"
   ]
  },
  {
   "cell_type": "code",
   "execution_count": 8,
   "metadata": {},
   "outputs": [
    {
     "data": {
      "text/plain": [
       "4803"
      ]
     },
     "execution_count": 8,
     "metadata": {},
     "output_type": "execute_result"
    }
   ],
   "source": [
    "i = len(data.index)\n",
    "i"
   ]
  },
  {
   "cell_type": "code",
   "execution_count": 9,
   "metadata": {},
   "outputs": [
    {
     "data": {
      "text/plain": [
       "20"
      ]
     },
     "execution_count": 9,
     "metadata": {},
     "output_type": "execute_result"
    }
   ],
   "source": [
    "j = len(data.columns)\n",
    "j"
   ]
  },
  {
   "cell_type": "code",
   "execution_count": null,
   "metadata": {},
   "outputs": [],
   "source": [
    "- Dữ liệu của chúng ta có tổng cộng 4803 quan sát với 20 biến."
   ]
  },
  {
   "cell_type": "code",
   "execution_count": 10,
   "metadata": {},
   "outputs": [
    {
     "data": {
      "text/plain": [
       "budget                     0\n",
       "genres                     0\n",
       "homepage                3091\n",
       "id                         0\n",
       "keywords                   0\n",
       "original_language          0\n",
       "original_title             0\n",
       "overview                   3\n",
       "popularity                 0\n",
       "production_companies       0\n",
       "production_countries       0\n",
       "release_date               1\n",
       "revenue                    0\n",
       "runtime                    2\n",
       "spoken_languages           0\n",
       "status                     0\n",
       "tagline                  844\n",
       "title                      0\n",
       "vote_average               0\n",
       "vote_count                 0\n",
       "dtype: int64"
      ]
     },
     "execution_count": 10,
     "metadata": {},
     "output_type": "execute_result"
    }
   ],
   "source": [
    "data.isna().sum()"
   ]
  },
  {
   "cell_type": "code",
   "execution_count": null,
   "metadata": {},
   "outputs": [],
   "source": [
    "- Các cột có giá trị NaN là 'homepage' (3091), 'overview' (3), 'release_date' (1), 'runtime' (2)\n",
    "và 'tagline' (844).\n",
    "- Trong đó, cột 'release_date' có liên quan đến nội dung cần khảo sát nên ta sẽ điều chỉnh cột này như sau:\n",
    "'release_date' bị thiếu là của phim 'America Is Still the Place'. Chúng ta điều chỉnh bằng cách bổ sung dữ liệu bị thiếu.\n",
    "'America Is Still the Place' là phim phát hành ngày 1 November 2017."
   ]
  },
  {
   "cell_type": "code",
   "execution_count": 11,
   "metadata": {},
   "outputs": [
    {
     "data": {
      "text/html": [
       "<div>\n",
       "<style scoped>\n",
       "    .dataframe tbody tr th:only-of-type {\n",
       "        vertical-align: middle;\n",
       "    }\n",
       "\n",
       "    .dataframe tbody tr th {\n",
       "        vertical-align: top;\n",
       "    }\n",
       "\n",
       "    .dataframe thead th {\n",
       "        text-align: right;\n",
       "    }\n",
       "</style>\n",
       "<table border=\"1\" class=\"dataframe\">\n",
       "  <thead>\n",
       "    <tr style=\"text-align: right;\">\n",
       "      <th></th>\n",
       "      <th>budget</th>\n",
       "      <th>genres</th>\n",
       "      <th>homepage</th>\n",
       "      <th>id</th>\n",
       "      <th>keywords</th>\n",
       "      <th>original_language</th>\n",
       "      <th>original_title</th>\n",
       "      <th>overview</th>\n",
       "      <th>popularity</th>\n",
       "      <th>production_companies</th>\n",
       "      <th>production_countries</th>\n",
       "      <th>release_date</th>\n",
       "      <th>revenue</th>\n",
       "      <th>runtime</th>\n",
       "      <th>spoken_languages</th>\n",
       "      <th>status</th>\n",
       "      <th>tagline</th>\n",
       "      <th>title</th>\n",
       "      <th>vote_average</th>\n",
       "      <th>vote_count</th>\n",
       "    </tr>\n",
       "  </thead>\n",
       "  <tbody>\n",
       "    <tr>\n",
       "      <th>4553</th>\n",
       "      <td>0</td>\n",
       "      <td>[]</td>\n",
       "      <td>NaN</td>\n",
       "      <td>380097</td>\n",
       "      <td>[]</td>\n",
       "      <td>en</td>\n",
       "      <td>America Is Still the Place</td>\n",
       "      <td>1971 post civil rights San Francisco seemed li...</td>\n",
       "      <td>0.0</td>\n",
       "      <td>[]</td>\n",
       "      <td>[]</td>\n",
       "      <td>NaN</td>\n",
       "      <td>0</td>\n",
       "      <td>0.0</td>\n",
       "      <td>[]</td>\n",
       "      <td>Released</td>\n",
       "      <td>NaN</td>\n",
       "      <td>America Is Still the Place</td>\n",
       "      <td>0.0</td>\n",
       "      <td>0</td>\n",
       "    </tr>\n",
       "  </tbody>\n",
       "</table>\n",
       "</div>"
      ],
      "text/plain": [
       "      budget genres homepage      id keywords original_language  \\\n",
       "4553       0     []      NaN  380097       []                en   \n",
       "\n",
       "                  original_title  \\\n",
       "4553  America Is Still the Place   \n",
       "\n",
       "                                               overview  popularity  \\\n",
       "4553  1971 post civil rights San Francisco seemed li...         0.0   \n",
       "\n",
       "     production_companies production_countries release_date  revenue  runtime  \\\n",
       "4553                   []                   []          NaN        0      0.0   \n",
       "\n",
       "     spoken_languages    status tagline                       title  \\\n",
       "4553               []  Released     NaN  America Is Still the Place   \n",
       "\n",
       "      vote_average  vote_count  \n",
       "4553           0.0           0  "
      ]
     },
     "execution_count": 11,
     "metadata": {},
     "output_type": "execute_result"
    }
   ],
   "source": [
    "data[data.release_date.isna()]"
   ]
  },
  {
   "cell_type": "code",
   "execution_count": 12,
   "metadata": {},
   "outputs": [],
   "source": [
    "data.loc[4553, 'release_date'] = '2017-11-01'"
   ]
  },
  {
   "cell_type": "code",
   "execution_count": 13,
   "metadata": {},
   "outputs": [],
   "source": [
    "pd.options.display.float_format = '{:,.2f}'.format"
   ]
  },
  {
   "cell_type": "code",
   "execution_count": null,
   "metadata": {},
   "outputs": [],
   "source": [
    "I. Phân tích ảnh hưởng của 'production_countries' lên 'revenue' (câu 1):"
   ]
  },
  {
   "cell_type": "code",
   "execution_count": null,
   "metadata": {},
   "outputs": [],
   "source": [
    "1. Thống kê mô tả 'revenue'"
   ]
  },
  {
   "cell_type": "code",
   "execution_count": 14,
   "metadata": {},
   "outputs": [
    {
     "data": {
      "text/plain": [
       "count           4,803.00\n",
       "mean       82,260,638.65\n",
       "std       162,857,100.94\n",
       "min                 0.00\n",
       "25%                 0.00\n",
       "50%        19,170,001.00\n",
       "75%        92,917,187.00\n",
       "max     2,787,965,087.00\n",
       "Name: revenue, dtype: float64"
      ]
     },
     "execution_count": 14,
     "metadata": {},
     "output_type": "execute_result"
    }
   ],
   "source": [
    "# thống kê mô tả 'revenue'\n",
    "data.revenue.describe()"
   ]
  },
  {
   "cell_type": "code",
   "execution_count": 15,
   "metadata": {},
   "outputs": [
    {
     "data": {
      "text/plain": [
       "<matplotlib.axes._subplots.AxesSubplot at 0x1b0ef462198>"
      ]
     },
     "execution_count": 15,
     "metadata": {},
     "output_type": "execute_result"
    },
    {
     "data": {
      "image/png": "[encoded data removed]",
      "text/plain": [
       "<Figure size 432x288 with 1 Axes>"
      ]
     },
     "metadata": {
      "needs_background": "light"
     },
     "output_type": "display_data"
    }
   ],
   "source": [
    "# đồ thị histogram 'revenue' (đơn vị: triệu $)\n",
    "(data.revenue/1000000).plot(kind = 'hist')"
   ]
  },
  {
   "cell_type": "code",
   "execution_count": 16,
   "metadata": {},
   "outputs": [
    {
     "data": {
      "text/plain": [
       "<matplotlib.axes._subplots.AxesSubplot at 0x1b0ef51a860>"
      ]
     },
     "execution_count": 16,
     "metadata": {},
     "output_type": "execute_result"
    },
    {
     "data": {
      "image/png": "[encoded data removed]",
      "text/plain": [
       "<Figure size 432x288 with 1 Axes>"
      ]
     },
     "metadata": {
      "needs_background": "light"
     },
     "output_type": "display_data"
    }
   ],
   "source": [
    "# đồ thị boxplot 'revenue' (đơn vị: triệu $)\n",
    "(data.revenue/1000000).plot(kind = 'box')"
   ]
  },
  {
   "cell_type": "code",
   "execution_count": 17,
   "metadata": {},
   "outputs": [
    {
     "data": {
      "text/plain": [
       "4.444716447519764"
      ]
     },
     "execution_count": 17,
     "metadata": {},
     "output_type": "execute_result"
    }
   ],
   "source": [
    "data.revenue.skew() # chỉ số Skewness 'revenue'"
   ]
  },
  {
   "cell_type": "code",
   "execution_count": 18,
   "metadata": {},
   "outputs": [
    {
     "data": {
      "text/plain": [
       "33.123629663045584"
      ]
     },
     "execution_count": 18,
     "metadata": {},
     "output_type": "execute_result"
    }
   ],
   "source": [
    "data.revenue.kurtosis() # chỉ số Kurtosis 'revenue'"
   ]
  },
  {
   "cell_type": "code",
   "execution_count": null,
   "metadata": {},
   "outputs": [],
   "source": [
    "Mô tả dữ liệu:\n",
    "- Số quan sát: 4803 và không có missing value\n",
    "- Doanh thu trung bình: $82.260.639\n",
    "- Độ lệch chuẩn: $162.857.100\n",
    "- Trung vị: $19.170.001\n",
    "- Doanh thu nhỏ nhất: $0\n",
    "- Doanh thu lớn nhất: $2.787.965.087 (phim Avatar)\n",
    "\n",
    "Biểu đồ histogram:\n",
    "- Biểu đồ histogram của 'revenue' có dạng phân phối lệch phải với phần lớn doanh thu nằm trong khoảng\n",
    "$0M đến $500M và một số phim có doanh thu rất lớn so với các phim khác, đây là các outliers.\n",
    "- Mẫu có phân phối lệch phải với Skewness = 4,44\n",
    "- Mẫu có heavy tail với Kurtosis = 33,12\n",
    "\n",
    "Biểu đồ boxplot\n",
    "- Biểu đồ boxplot cho thấy mẫu có nhiều outliers (chấm tròn), đây là các phim có doanh thu cực lớn.\n",
    "- Một quan sát được gọi là outlier khi có giá trị lớn hơn Q3 + 1,5*IQR hoặc nhỏ hơn Q1 - 1,5*IQR\n",
    "- Để có cái nhìn chính xác hơn về dữ liệu cần phải tách các outlier ra để xem xét riêng như dưới đây."
   ]
  },
  {
   "cell_type": "code",
   "execution_count": 19,
   "metadata": {},
   "outputs": [],
   "source": [
    "# tiêu chuẩn đánh giá outlier\n",
    "rev_outliers_crit = data.revenue.quantile(.75)+(data.revenue.quantile(.75) - data.revenue.quantile(.25))*1.5"
   ]
  },
  {
   "cell_type": "code",
   "execution_count": 20,
   "metadata": {},
   "outputs": [],
   "source": [
    "# loại các quan sát outlier (sau đây gọi là tập 'phim phổ thông')\n",
    "data_outlier_exc = data[data.revenue <= rev_outliers_crit]"
   ]
  },
  {
   "cell_type": "code",
   "execution_count": 21,
   "metadata": {},
   "outputs": [],
   "source": [
    "# các quan sát outlier (sau đây gọi là tập 'phim bom tấn')\n",
    "data_outlier = data[data.revenue > rev_outliers_crit]"
   ]
  },
  {
   "cell_type": "code",
   "execution_count": null,
   "metadata": {},
   "outputs": [],
   "source": [
    "1.1. Revenue (loại các quan sát outliers) ('phim phổ thông')"
   ]
  },
  {
   "cell_type": "code",
   "execution_count": 22,
   "metadata": {},
   "outputs": [
    {
     "data": {
      "text/plain": [
       "count         4,331.00\n",
       "mean     39,725,205.14\n",
       "std      55,394,940.32\n",
       "min               0.00\n",
       "25%               0.00\n",
       "50%      12,342,632.00\n",
       "75%      60,731,780.50\n",
       "max     231,976,425.00\n",
       "Name: revenue, dtype: float64"
      ]
     },
     "execution_count": 22,
     "metadata": {},
     "output_type": "execute_result"
    }
   ],
   "source": [
    "# thống kê mô tả tập 'phim phổ thông'\n",
    "data_outlier_exc.revenue.describe()"
   ]
  },
  {
   "cell_type": "code",
   "execution_count": 23,
   "metadata": {},
   "outputs": [
    {
     "data": {
      "text/plain": [
       "<matplotlib.axes._subplots.AxesSubplot at 0x1b0ef593198>"
      ]
     },
     "execution_count": 23,
     "metadata": {},
     "output_type": "execute_result"
    },
    {
     "data": {
      "image/png": "[encoded data removed]",
      "text/plain": [
       "<Figure size 432x288 with 1 Axes>"
      ]
     },
     "metadata": {
      "needs_background": "light"
     },
     "output_type": "display_data"
    }
   ],
   "source": [
    "# đồ thị histogram tập 'phim phổ thông' (đơn vị: triệu $)\n",
    "(data_outlier_exc.revenue/1000000).plot.hist(bins = 20)"
   ]
  },
  {
   "cell_type": "code",
   "execution_count": 24,
   "metadata": {},
   "outputs": [
    {
     "data": {
      "text/plain": [
       "1.5502855242327507"
      ]
     },
     "execution_count": 24,
     "metadata": {},
     "output_type": "execute_result"
    }
   ],
   "source": [
    "data_outlier_exc.revenue.skew()"
   ]
  },
  {
   "cell_type": "code",
   "execution_count": 25,
   "metadata": {},
   "outputs": [
    {
     "data": {
      "text/plain": [
       "1.5324523080978278"
      ]
     },
     "execution_count": 25,
     "metadata": {},
     "output_type": "execute_result"
    }
   ],
   "source": [
    "data_outlier_exc.revenue.kurtosis()"
   ]
  },
  {
   "cell_type": "code",
   "execution_count": null,
   "metadata": {},
   "outputs": [],
   "source": [
    "Thống kê mô tả của dữ liệu 'phim phổ thông' như sau:\n",
    "- Tổng số lượng quan sát: 4331\n",
    "- Trung bình: $39.725.205\n",
    "- Độ lệch chuẩn: $55.394.940\n",
    "- Trung vị: $12.342.632\n",
    "- Nhận xét: Sau khi loại outliers, mẫu quan sát có trung bình nhỏ hơn với độ phân tán thấp hơn.Trung vị\n",
    "của mẫu cũng giảm xuống.\n",
    "- Đồ thị histogram cho thấy phần lớn các phim có doanh thu nằm trong khoản $0M đến $100M\n",
    "- Skewness và Kurtosis của mẫu sau khi loại outlier đều giảm mạnh so với ban đầu và gần với phân phối\n",
    "chuẩn hơn. Cụ thể, Skewness là 1,55 và Kurtosis là 1,53"
   ]
  },
  {
   "cell_type": "code",
   "execution_count": null,
   "metadata": {},
   "outputs": [],
   "source": [
    "1.2. Revenue (outliers) ('phim bom tấn')"
   ]
  },
  {
   "cell_type": "code",
   "execution_count": 26,
   "metadata": {},
   "outputs": [
    {
     "data": {
      "text/plain": [
       "count             472.00\n",
       "mean      472,559,288.09\n",
       "std       270,002,703.48\n",
       "min       232,324,128.00\n",
       "25%       294,174,722.00\n",
       "50%       371,614,639.50\n",
       "75%       565,563,524.25\n",
       "max     2,787,965,087.00\n",
       "Name: revenue, dtype: float64"
      ]
     },
     "execution_count": 26,
     "metadata": {},
     "output_type": "execute_result"
    }
   ],
   "source": [
    "# thống kê mô tả tập 'phim bom tấn'\n",
    "data_outlier.revenue.describe()"
   ]
  },
  {
   "cell_type": "code",
   "execution_count": 27,
   "metadata": {},
   "outputs": [
    {
     "data": {
      "text/plain": [
       "<matplotlib.axes._subplots.AxesSubplot at 0x1b0ef622438>"
      ]
     },
     "execution_count": 27,
     "metadata": {},
     "output_type": "execute_result"
    },
    {
     "data": {
      "image/png": "[encoded data removed]",
      "text/plain": [
       "<Figure size 432x288 with 1 Axes>"
      ]
     },
     "metadata": {
      "needs_background": "light"
     },
     "output_type": "display_data"
    }
   ],
   "source": [
    "# đồ thị histogram tập 'phim bom tấn' (đơn vị: triệu $)\n",
    "(data_outlier.revenue/1000000).plot.hist(bins = 20)"
   ]
  },
  {
   "cell_type": "code",
   "execution_count": 28,
   "metadata": {},
   "outputs": [
    {
     "data": {
      "text/plain": [
       "2.6834647961676494"
      ]
     },
     "execution_count": 28,
     "metadata": {},
     "output_type": "execute_result"
    }
   ],
   "source": [
    "data_outlier.revenue.skew()"
   ]
  },
  {
   "cell_type": "code",
   "execution_count": 29,
   "metadata": {},
   "outputs": [
    {
     "data": {
      "text/plain": [
       "13.454887385408268"
      ]
     },
     "execution_count": 29,
     "metadata": {},
     "output_type": "execute_result"
    }
   ],
   "source": [
    "data_outlier.revenue.kurtosis()"
   ]
  },
  {
   "cell_type": "code",
   "execution_count": 78,
   "metadata": {},
   "outputs": [],
   "source": [
    "Các quan sát thuộc tập 'phim bom tấn' có thống kê mô tả như sau:\n",
    "- Tổng số lượng quan sát: 472\n",
    "- Trung bình: $472.559.288\n",
    "- Độ lệch chuẩn: $270.002.703\n",
    "- Trung vị: $371.614.639\n",
    "- Phần lớn các phim có doanh thu từ $232M đến $565M, một số phim có doanh thu lớn hơn $565M\n",
    "- Nhận xét: số liệu thống kê mô tả của hai tập dữ liệu con rất khác nhau cho thấy biến 'revenue'có thể\n",
    "là phân phối bimodal\n",
    "- Phân phối bimodal khi các quan sát không thuộc cùng một phân phối mà được rút ra từ hai phân phối\n",
    "xác suất khác nhau thể hiện ở hai hàm một độ xác suất tách riêng nhau đáng kể."
   ]
  },
  {
   "cell_type": "code",
   "execution_count": null,
   "metadata": {},
   "outputs": [],
   "source": [
    "1.3. Revenue bimodal distribution"
   ]
  },
  {
   "cell_type": "code",
   "execution_count": 30,
   "metadata": {},
   "outputs": [
    {
     "data": {
      "text/plain": [
       "<matplotlib.axes._subplots.AxesSubplot at 0x1b0ef6a1748>"
      ]
     },
     "execution_count": 30,
     "metadata": {},
     "output_type": "execute_result"
    },
    {
     "data": {
      "image/png": "[encoded data removed]",
      "text/plain": [
       "<Figure size 432x288 with 1 Axes>"
      ]
     },
     "metadata": {
      "needs_background": "light"
     },
     "output_type": "display_data"
    }
   ],
   "source": [
    "# hàm mật độ xác suất của tập 'phim phổ thông' (màu cam) và tập 'phim bom tấn' (màu xanh)\n",
    "sns.distplot(data_outlier.revenue/1000000, hist = False, kde = True, kde_kws = {'shade':True})\n",
    "sns.distplot(data_outlier_exc.revenue/1000000, hist = False, kde = True, kde_kws = {'shade':True})"
   ]
  },
  {
   "cell_type": "code",
   "execution_count": null,
   "metadata": {},
   "outputs": [],
   "source": [
    "- Đồ thị density function cho thấy biến 'revenue' là một bimodal distribution với mẫu thuộc tập dữ liệu\n",
    "data_outlier (màu xanh) là minor modal và mẫu thuộc tập dữ liệu data_outlier_exc (màu cam) là major\n",
    "modal.\n",
    "\n",
    "- Nhóm data_oulier là nhóm phim có doanh thu cực lớn và độ phân tán giữa doanh thu các phim trong nhóm\n",
    "cao, trong phần phân tích sau ta sẽ gọi nhóm này là nhóm 'phim bom tấn'\n",
    "\n",
    "- Nhóm data_outlier_exc là nhóm phim có doanh thu kém hơn nhóm 'phim bom tấn' và có độ tập trung cao,\n",
    "các phim trong nhóm không có độ phân hóa lớn, trong phần phân tích sau ta sẽ gọi nhóm này là nhóm\n",
    "'phim phổ thông'\n",
    "\n",
    "- Nhận xét: từ kết luận trên, khi phân tích liên quan đến biến 'revenue' ta sử dụng ba tập dữ liệu là:\n",
    "tập tổng thể, tập outlier và tập outlier_exc để lần lượt đánh giá ảnh hưởng đến từng tập."
   ]
  },
  {
   "cell_type": "code",
   "execution_count": null,
   "metadata": {},
   "outputs": [],
   "source": [
    "2. Thống kê mô tả 'production_countries'"
   ]
  },
  {
   "cell_type": "code",
   "execution_count": null,
   "metadata": {},
   "outputs": [],
   "source": [
    "2.1. Xử lý dữ liệu"
   ]
  },
  {
   "cell_type": "code",
   "execution_count": null,
   "metadata": {},
   "outputs": [],
   "source": [
    "- Một quan sát có từ 2 production countries trở lên thì 'revenue' của quan sát đó sẽ được ghi nhận cho tất cả các production\n",
    "countries bằng cách thêm dòng vào dữ liệu.\n",
    "Ví dụ: quan sát 1 có 'revenue' = 1000 và 'production_countries' = [US, UK] thì sẽ được tách thành 2 dòng với 'revenue' = 1000 và\n",
    "'production_countries' lần lượt là US và UK."
   ]
  },
  {
   "cell_type": "code",
   "execution_count": 31,
   "metadata": {},
   "outputs": [],
   "source": [
    "# xử lý dữ liệu của tập tổng thể\n",
    "data_2 = area_transformation(data)\n",
    "# xử lý dữ liệu của tập 'phim phổ thông'\n",
    "data_outlier_exc_2 = area_transformation(data_outlier_exc)\n",
    "# xử lý dữ liệu của tập 'phim bom tấn'\n",
    "data_outlier_2 = area_transformation(data_outlier)"
   ]
  },
  {
   "cell_type": "code",
   "execution_count": null,
   "metadata": {},
   "outputs": [],
   "source": [
    "- Các dữ liệu sau khi được xử lý sẽ được nhóm theo 'production_countries'.\n",
    "- Có một số quốc gia có số lượng phim trình chiếu rất ít, khi đưa các quốc gia này vào phân tích sẽ\n",
    "không đảm bảo đủ yêu cầu về cỡ mẫu. Do đó, các quốc gia có số lượng phim chiếu dưới 150\n",
    "sẽ được loại ra khỏi phân tích"
   ]
  },
  {
   "cell_type": "code",
   "execution_count": 32,
   "metadata": {},
   "outputs": [],
   "source": [
    "# loại các nhóm có số lượng cỡ mẫu quá ít\n",
    "data_2 = data_2.groupby('production_countries').filter(lambda x: len(x) > 150)\n",
    "data_outlier_exc_2 = data_outlier_exc_2.groupby('production_countries').filter(lambda x: len(x) > 120)\n",
    "data_outlier_2 = data_outlier_2.groupby('production_countries').filter(lambda x: len(x) > 30)"
   ]
  },
  {
   "cell_type": "code",
   "execution_count": 33,
   "metadata": {},
   "outputs": [],
   "source": [
    "data_2_grouped = data_2.groupby('production_countries')\n",
    "data_outlier_exc_2_grouped = data_outlier_exc_2.groupby('production_countries')\n",
    "data_outlier_2_grouped = data_outlier_2.groupby('production_countries')"
   ]
  },
  {
   "cell_type": "code",
   "execution_count": null,
   "metadata": {},
   "outputs": [],
   "source": [
    "3. ANOVA"
   ]
  },
  {
   "cell_type": "code",
   "execution_count": null,
   "metadata": {},
   "outputs": [],
   "source": [
    "3.1. Thống kê mô tả của các nhóm"
   ]
  },
  {
   "cell_type": "code",
   "execution_count": 34,
   "metadata": {},
   "outputs": [
    {
     "data": {
      "text/html": [
       "<div>\n",
       "<style scoped>\n",
       "    .dataframe tbody tr th:only-of-type {\n",
       "        vertical-align: middle;\n",
       "    }\n",
       "\n",
       "    .dataframe tbody tr th {\n",
       "        vertical-align: top;\n",
       "    }\n",
       "\n",
       "    .dataframe thead th {\n",
       "        text-align: right;\n",
       "    }\n",
       "</style>\n",
       "<table border=\"1\" class=\"dataframe\">\n",
       "  <thead>\n",
       "    <tr style=\"text-align: right;\">\n",
       "      <th></th>\n",
       "      <th>Tổng thể</th>\n",
       "      <th>Phổ thông</th>\n",
       "      <th>Bom tấn</th>\n",
       "    </tr>\n",
       "  </thead>\n",
       "  <tbody>\n",
       "    <tr>\n",
       "      <th>CA</th>\n",
       "      <td>261</td>\n",
       "      <td>244</td>\n",
       "      <td>nan</td>\n",
       "    </tr>\n",
       "    <tr>\n",
       "      <th>DE</th>\n",
       "      <td>324</td>\n",
       "      <td>299</td>\n",
       "      <td>nan</td>\n",
       "    </tr>\n",
       "    <tr>\n",
       "      <th>FR</th>\n",
       "      <td>306</td>\n",
       "      <td>296</td>\n",
       "      <td>nan</td>\n",
       "    </tr>\n",
       "    <tr>\n",
       "      <th>GB</th>\n",
       "      <td>636</td>\n",
       "      <td>568</td>\n",
       "      <td>68.00</td>\n",
       "    </tr>\n",
       "    <tr>\n",
       "      <th>US</th>\n",
       "      <td>3956</td>\n",
       "      <td>3495</td>\n",
       "      <td>461.00</td>\n",
       "    </tr>\n",
       "  </tbody>\n",
       "</table>\n",
       "</div>"
      ],
      "text/plain": [
       "    Tổng thể  Phổ thông  Bom tấn\n",
       "CA       261        244      nan\n",
       "DE       324        299      nan\n",
       "FR       306        296      nan\n",
       "GB       636        568    68.00\n",
       "US      3956       3495   461.00"
      ]
     },
     "execution_count": 34,
     "metadata": {},
     "output_type": "execute_result"
    }
   ],
   "source": [
    "# Số lượng quan sát trong 3 tập dữ liệu theo production countries\n",
    "a = data_2_grouped.revenue.count()\n",
    "b = data_outlier_exc_2_grouped.revenue.count()\n",
    "c = data_outlier_2_grouped.revenue.count()\n",
    "pd.concat([a,b,c], axis = 1, sort = False, keys = ['Tổng thể','Phổ thông','Bom tấn'])"
   ]
  },
  {
   "cell_type": "code",
   "execution_count": null,
   "metadata": {},
   "outputs": [],
   "source": [
    "- Hoa Kỳ (US) có tham gia sản xuất 3956 phim trong đó có 3495 phim thuộc nhóm 'phim phổ thông' và 461\n",
    "phim thuộc nhóm 'phim bom tấn'\n",
    "- Anh (GB) cũng có 68 'phim bom tấn' và 568 'phim phổ thông'\n",
    "- Ngoài Hoa Kỳ và Anh, các quốc gia khác có mặt trong dữ liệu là Canada (CA), Đức (DE) và Pháp (FR)"
   ]
  },
  {
   "cell_type": "code",
   "execution_count": 35,
   "metadata": {},
   "outputs": [
    {
     "data": {
      "text/html": [
       "<div>\n",
       "<style scoped>\n",
       "    .dataframe tbody tr th:only-of-type {\n",
       "        vertical-align: middle;\n",
       "    }\n",
       "\n",
       "    .dataframe tbody tr th {\n",
       "        vertical-align: top;\n",
       "    }\n",
       "\n",
       "    .dataframe thead th {\n",
       "        text-align: right;\n",
       "    }\n",
       "</style>\n",
       "<table border=\"1\" class=\"dataframe\">\n",
       "  <thead>\n",
       "    <tr style=\"text-align: right;\">\n",
       "      <th></th>\n",
       "      <th>Tổng thể</th>\n",
       "      <th>Phổ thông</th>\n",
       "      <th>Bom tấn</th>\n",
       "    </tr>\n",
       "  </thead>\n",
       "  <tbody>\n",
       "    <tr>\n",
       "      <th>CA</th>\n",
       "      <td>57,434,160.42</td>\n",
       "      <td>33,562,831.69</td>\n",
       "      <td>nan</td>\n",
       "    </tr>\n",
       "    <tr>\n",
       "      <th>DE</th>\n",
       "      <td>78,642,483.29</td>\n",
       "      <td>50,015,631.79</td>\n",
       "      <td>nan</td>\n",
       "    </tr>\n",
       "    <tr>\n",
       "      <th>FR</th>\n",
       "      <td>46,365,765.72</td>\n",
       "      <td>35,737,237.25</td>\n",
       "      <td>nan</td>\n",
       "    </tr>\n",
       "    <tr>\n",
       "      <th>GB</th>\n",
       "      <td>94,473,253.09</td>\n",
       "      <td>41,020,927.24</td>\n",
       "      <td>540,957,386.69</td>\n",
       "    </tr>\n",
       "    <tr>\n",
       "      <th>US</th>\n",
       "      <td>96,063,396.23</td>\n",
       "      <td>45,854,241.22</td>\n",
       "      <td>476,716,317.55</td>\n",
       "    </tr>\n",
       "  </tbody>\n",
       "</table>\n",
       "</div>"
      ],
      "text/plain": [
       "        Tổng thể     Phổ thông        Bom tấn\n",
       "CA 57,434,160.42 33,562,831.69            nan\n",
       "DE 78,642,483.29 50,015,631.79            nan\n",
       "FR 46,365,765.72 35,737,237.25            nan\n",
       "GB 94,473,253.09 41,020,927.24 540,957,386.69\n",
       "US 96,063,396.23 45,854,241.22 476,716,317.55"
      ]
     },
     "execution_count": 35,
     "metadata": {},
     "output_type": "execute_result"
    }
   ],
   "source": [
    "# doanh thu trung bình trong 3 tập dữ liệu theo production countries\n",
    "a = data_2_grouped.revenue.mean()\n",
    "b = data_outlier_exc_2_grouped.revenue.mean()\n",
    "c = data_outlier_2_grouped.revenue.mean()\n",
    "pd.concat([a,b,c], axis = 1, sort = False, keys = ['Tổng thể','Phổ thông','Bom tấn'])"
   ]
  },
  {
   "cell_type": "code",
   "execution_count": null,
   "metadata": {},
   "outputs": [],
   "source": [
    "- Trong tập dữ liệu tổng thể:\n",
    "    + US có doanh thu TB cao nhất ($96.063.396), kế tiếp là GB, DE, CA và FR\n",
    "    + GB và US có doanh thu TB xấp xỉ nhau và cao hơn nhóm còn lại gồm CA, DE và FR\n",
    "    \n",
    "- Trong tập dữ liệu 'phim phổ thông':\n",
    "    + DE có doanh thu TB cao nhất ($50.015.631), kế tiếp là US, GB, FR và CA\n",
    "    + Doanh thu TB của các nhóm trong tập dữ liệu là xấp xỉ nhau\n",
    "\n",
    "- Trong tập dữ liệu 'phim bom tấn':\n",
    "    + Tập dữ liệu chỉ có hai quốc gia là GB và US\n",
    "    + GB có doanh thu TB cao nhất $540.957.387 và US đứng thứ hai $476.716.317"
   ]
  },
  {
   "cell_type": "code",
   "execution_count": 36,
   "metadata": {},
   "outputs": [
    {
     "data": {
      "text/html": [
       "<div>\n",
       "<style scoped>\n",
       "    .dataframe tbody tr th:only-of-type {\n",
       "        vertical-align: middle;\n",
       "    }\n",
       "\n",
       "    .dataframe tbody tr th {\n",
       "        vertical-align: top;\n",
       "    }\n",
       "\n",
       "    .dataframe thead th {\n",
       "        text-align: right;\n",
       "    }\n",
       "</style>\n",
       "<table border=\"1\" class=\"dataframe\">\n",
       "  <thead>\n",
       "    <tr style=\"text-align: right;\">\n",
       "      <th></th>\n",
       "      <th>Tổng thể</th>\n",
       "      <th>Phổ thông</th>\n",
       "      <th>Bom tấn</th>\n",
       "    </tr>\n",
       "  </thead>\n",
       "  <tbody>\n",
       "    <tr>\n",
       "      <th>CA</th>\n",
       "      <td>109,940,131.31</td>\n",
       "      <td>51,383,465.58</td>\n",
       "      <td>nan</td>\n",
       "    </tr>\n",
       "    <tr>\n",
       "      <th>DE</th>\n",
       "      <td>122,676,631.50</td>\n",
       "      <td>61,515,920.70</td>\n",
       "      <td>nan</td>\n",
       "    </tr>\n",
       "    <tr>\n",
       "      <th>FR</th>\n",
       "      <td>82,239,404.50</td>\n",
       "      <td>51,925,126.88</td>\n",
       "      <td>nan</td>\n",
       "    </tr>\n",
       "    <tr>\n",
       "      <th>GB</th>\n",
       "      <td>201,450,365.23</td>\n",
       "      <td>56,082,619.59</td>\n",
       "      <td>362,574,430.69</td>\n",
       "    </tr>\n",
       "    <tr>\n",
       "      <th>US</th>\n",
       "      <td>175,096,691.99</td>\n",
       "      <td>57,856,480.15</td>\n",
       "      <td>271,677,288.00</td>\n",
       "    </tr>\n",
       "  </tbody>\n",
       "</table>\n",
       "</div>"
      ],
      "text/plain": [
       "         Tổng thể     Phổ thông        Bom tấn\n",
       "CA 109,940,131.31 51,383,465.58            nan\n",
       "DE 122,676,631.50 61,515,920.70            nan\n",
       "FR  82,239,404.50 51,925,126.88            nan\n",
       "GB 201,450,365.23 56,082,619.59 362,574,430.69\n",
       "US 175,096,691.99 57,856,480.15 271,677,288.00"
      ]
     },
     "execution_count": 36,
     "metadata": {},
     "output_type": "execute_result"
    }
   ],
   "source": [
    "# độ lệch chuẩn trong 3 tập dữ liệu theo production countries\n",
    "a = data_2_grouped.revenue.std()\n",
    "b = data_outlier_exc_2_grouped.revenue.std()\n",
    "c = data_outlier_2_grouped.revenue.std()\n",
    "pd.concat([a,b,c], axis = 1, sort = False, keys = ['Tổng thể','Phổ thông','Bom tấn'])"
   ]
  },
  {
   "cell_type": "code",
   "execution_count": null,
   "metadata": {},
   "outputs": [],
   "source": [
    "- Độ lệch chuẩn trong tập 'phim phổ thông' tương đối nhỏ, điều này phù hợp với biểu đồ histogram ở\n",
    "trên\n",
    "- Độ lệch chuẩn trong tập 'phim bom tấn' rất lớn, biểu đồ histogram ở trên cũng cho thấy phân phối\n",
    "lệch phải và có đuôi dài"
   ]
  },
  {
   "cell_type": "code",
   "execution_count": 37,
   "metadata": {},
   "outputs": [
    {
     "data": {
      "text/plain": [
       "<matplotlib.axes._subplots.AxesSubplot at 0x1b0ef832e48>"
      ]
     },
     "execution_count": 37,
     "metadata": {},
     "output_type": "execute_result"
    },
    {
     "data": {
      "image/png": "[encoded data removed]",
      "text/plain": [
       "<Figure size 432x288 with 1 Axes>"
      ]
     },
     "metadata": {
      "needs_background": "light"
     },
     "output_type": "display_data"
    }
   ],
   "source": [
    "# biểu đồ boxplot cho tập 'phim phổ thông'\n",
    "data_outlier_exc_2.boxplot('revenue', by = 'production_countries')"
   ]
  },
  {
   "cell_type": "code",
   "execution_count": null,
   "metadata": {},
   "outputs": [],
   "source": [
    "- Trong tập dữ liệu 'phim phổ thông', DE và US là hai quốc gia có doanh thu TB lớn nhất đồng thời độ\n",
    "phân tán cũng cao nhất"
   ]
  },
  {
   "cell_type": "code",
   "execution_count": 38,
   "metadata": {},
   "outputs": [
    {
     "data": {
      "text/plain": [
       "<matplotlib.axes._subplots.AxesSubplot at 0x1b0ef8790f0>"
      ]
     },
     "execution_count": 38,
     "metadata": {},
     "output_type": "execute_result"
    },
    {
     "data": {
      "image/png": "[encoded data removed]",
      "text/plain": [
       "<Figure size 432x288 with 1 Axes>"
      ]
     },
     "metadata": {
      "needs_background": "light"
     },
     "output_type": "display_data"
    }
   ],
   "source": [
    "# biểu đồ boxplot cho tập 'phim bom tấn'\n",
    "data_outlier_2.boxplot('revenue', by = 'production_countries')"
   ]
  },
  {
   "cell_type": "code",
   "execution_count": null,
   "metadata": {},
   "outputs": [],
   "source": [
    "- Trong tập dữ liệu 'phim bom tấn', GB có doanh thu TB cao hơn US và độ phân tán cũng cao hơn\n",
    "- Tuy nhiên, US có nhiều 'phim bom tấn' với doanh thu cực lớn hơn GB"
   ]
  },
  {
   "cell_type": "code",
   "execution_count": null,
   "metadata": {},
   "outputs": [],
   "source": [
    "3.2. Kiểm định ANOVA"
   ]
  },
  {
   "cell_type": "code",
   "execution_count": null,
   "metadata": {},
   "outputs": [],
   "source": [
    "Như đã đề cập ở trên, ta sẽ thực hiện phân tích one-way ANOVA lên ba tập dữ liệu: tổng thể,\n",
    "'phim phổ thông' và 'phim bom tấn' và xem xét liệu ảnh hưởng của area lên revenue có khác nhau ở ba\n",
    "tập dữ liệu này không"
   ]
  },
  {
   "cell_type": "code",
   "execution_count": null,
   "metadata": {},
   "outputs": [],
   "source": [
    "a) Kiểm định ANOVA cho tập tổng thể"
   ]
  },
  {
   "cell_type": "code",
   "execution_count": null,
   "metadata": {},
   "outputs": [],
   "source": [
    "Trước khi thực hiện kiểm định ANOVA ta cần kiểm định các yêu cầu của kiểm định ANOVA về:\n",
    "    + Các quan sát là độc lập\n",
    "    -> mỗi phim là một quan sát độc lập\n",
    "    -> tuân thủ\n",
    "    + Các quan sát có phân phối chuẩn\n",
    "    -> thực hiện kiểm định K-S đối với từng nhóm\n",
    "    + Các quan sát có độ lệch chuẩn bằng nhau\n",
    "    -> độ lệch chuẩn trong nhóm tổng thể không đồng đều mà phân hóa thành 2 nhóm tương ứng với 2 tập\n",
    "    dữ liệu con\n",
    "    -> độ lệch chuẩn trong nhóm 'phim phổ thông' là xấp xỉ nhau\n",
    "    -> độ lệch chuẩn trong nhóm 'phim bom tấn' có sự khác nhau\n",
    "Từ các đánh giá trên, đề xuất thực hiện kiểm định ANOVA theo từng nhóm con mà không thực hiện cho\n",
    "nhóm tổng thể vì nhóm tổng thể không đáp ứng giả định về sự đồng nhất phương sai."
   ]
  },
  {
   "cell_type": "code",
   "execution_count": null,
   "metadata": {},
   "outputs": [],
   "source": [
    "b) Kiểm định ANOVA cho tập 'phim phổ thông'"
   ]
  },
  {
   "cell_type": "code",
   "execution_count": 39,
   "metadata": {},
   "outputs": [
    {
     "name": "stdout",
     "output_type": "stream",
     "text": [
      "F statistic: 93.209838\n",
      "p_value: 0.000000\n"
     ]
    }
   ],
   "source": [
    "# thực hiện kiểm định K-S về giả thuyết phân phối chuẩn của nhóm 'CA'\n",
    "stat, p_value = stats.normaltest(data_outlier_exc_2[data_outlier_exc_2.production_countries == 'CA'].revenue)\n",
    "print('F statistic: %f' %stat)\n",
    "print('p_value: %f' %p_value)"
   ]
  },
  {
   "cell_type": "code",
   "execution_count": 40,
   "metadata": {},
   "outputs": [
    {
     "data": {
      "text/plain": [
       "<matplotlib.axes._subplots.AxesSubplot at 0x1b0ef8be240>"
      ]
     },
     "execution_count": 40,
     "metadata": {},
     "output_type": "execute_result"
    },
    {
     "data": {
      "image/png": "[encoded data removed]",
      "text/plain": [
       "<Figure size 432x288 with 1 Axes>"
      ]
     },
     "metadata": {
      "needs_background": "light"
     },
     "output_type": "display_data"
    }
   ],
   "source": [
    "# đồ thị histogram của nhóm 'CA'\n",
    "((data_outlier_exc_2[data_outlier_exc_2.production_countries == 'CA'].revenue)/1000000).plot(kind = 'hist')"
   ]
  },
  {
   "cell_type": "code",
   "execution_count": 41,
   "metadata": {},
   "outputs": [
    {
     "name": "stdout",
     "output_type": "stream",
     "text": [
      "F statistic: 50.476530\n",
      "p_value: 0.000000\n"
     ]
    }
   ],
   "source": [
    "# thực hiện kiểm định K-S về giả thuyết phân phối chuẩn của nhóm 'DE'\n",
    "stat, p_value = stats.normaltest(data_outlier_exc_2[data_outlier_exc_2.production_countries == 'DE'].revenue)\n",
    "print('F statistic: %f' %stat)\n",
    "print('p_value: %f' %p_value)"
   ]
  },
  {
   "cell_type": "code",
   "execution_count": 42,
   "metadata": {},
   "outputs": [
    {
     "data": {
      "text/plain": [
       "<matplotlib.axes._subplots.AxesSubplot at 0x1b0ef9273c8>"
      ]
     },
     "execution_count": 42,
     "metadata": {},
     "output_type": "execute_result"
    },
    {
     "data": {
      "image/png": "[encoded data removed]",
      "text/plain": [
       "<Figure size 432x288 with 1 Axes>"
      ]
     },
     "metadata": {
      "needs_background": "light"
     },
     "output_type": "display_data"
    }
   ],
   "source": [
    "# đồ thị histogram của nhóm 'DE'\n",
    "((data_outlier_exc_2[data_outlier_exc_2.production_countries == 'DE'].revenue)/1000000).plot(kind = 'hist')"
   ]
  },
  {
   "cell_type": "code",
   "execution_count": 43,
   "metadata": {},
   "outputs": [
    {
     "name": "stdout",
     "output_type": "stream",
     "text": [
      "F statistic: 95.553901\n",
      "p_value: 0.000000\n"
     ]
    }
   ],
   "source": [
    "# thực hiện kiểm định K-S về giả thuyết phân phối chuẩn của nhóm 'FR'\n",
    "stat, p_value = stats.normaltest(data_outlier_exc_2[data_outlier_exc_2.production_countries == 'FR'].revenue)\n",
    "print('F statistic: %f' %stat)\n",
    "print('p_value: %f' %p_value)"
   ]
  },
  {
   "cell_type": "code",
   "execution_count": 44,
   "metadata": {},
   "outputs": [
    {
     "data": {
      "text/plain": [
       "<matplotlib.axes._subplots.AxesSubplot at 0x1b0ef8ffef0>"
      ]
     },
     "execution_count": 44,
     "metadata": {},
     "output_type": "execute_result"
    },
    {
     "data": {
      "image/png": "[encoded data removed]",
      "text/plain": [
       "<Figure size 432x288 with 1 Axes>"
      ]
     },
     "metadata": {
      "needs_background": "light"
     },
     "output_type": "display_data"
    }
   ],
   "source": [
    "# đồ thị histogram của nhóm 'FR'\n",
    "((data_outlier_exc_2[data_outlier_exc_2.production_countries == 'FR'].revenue)/1000000).plot(kind = 'hist')"
   ]
  },
  {
   "cell_type": "code",
   "execution_count": 45,
   "metadata": {},
   "outputs": [
    {
     "name": "stdout",
     "output_type": "stream",
     "text": [
      "F statistic: 147.461685\n",
      "p_value: 0.000000\n"
     ]
    }
   ],
   "source": [
    "# thực hiện kiểm định K-S về giả thuyết phân phối chuẩn của nhóm 'GB'\n",
    "stat, p_value = stats.normaltest(data_outlier_exc_2[data_outlier_exc_2.production_countries == 'GB'].revenue)\n",
    "print('F statistic: %f' %stat)\n",
    "print('p_value: %f' %p_value)"
   ]
  },
  {
   "cell_type": "code",
   "execution_count": 46,
   "metadata": {},
   "outputs": [
    {
     "data": {
      "text/plain": [
       "<matplotlib.axes._subplots.AxesSubplot at 0x1b0ef9fa908>"
      ]
     },
     "execution_count": 46,
     "metadata": {},
     "output_type": "execute_result"
    },
    {
     "data": {
      "image/png": "[encoded data removed]",
      "text/plain": [
       "<Figure size 432x288 with 1 Axes>"
      ]
     },
     "metadata": {
      "needs_background": "light"
     },
     "output_type": "display_data"
    }
   ],
   "source": [
    "# đồ thị histogram của nhóm 'GB'\n",
    "((data_outlier_exc_2[data_outlier_exc_2.production_countries == 'GB'].revenue)/1000000).plot(kind = 'hist')"
   ]
  },
  {
   "cell_type": "code",
   "execution_count": 47,
   "metadata": {},
   "outputs": [
    {
     "name": "stdout",
     "output_type": "stream",
     "text": [
      "F statistic: 691.067333\n",
      "p_value: 0.000000\n"
     ]
    }
   ],
   "source": [
    "# thực hiện kiểm định K-S về giả thuyết phân phối chuẩn của nhóm 'US'\n",
    "stat, p_value = stats.normaltest(data_outlier_exc_2[data_outlier_exc_2.production_countries == 'US'].revenue)\n",
    "print('F statistic: %f' %stat)\n",
    "print('p_value: %f' %p_value)"
   ]
  },
  {
   "cell_type": "code",
   "execution_count": 48,
   "metadata": {},
   "outputs": [
    {
     "data": {
      "text/plain": [
       "<matplotlib.axes._subplots.AxesSubplot at 0x1b0efa535c0>"
      ]
     },
     "execution_count": 48,
     "metadata": {},
     "output_type": "execute_result"
    },
    {
     "data": {
      "image/png": "[encoded data removed]",
      "text/plain": [
       "<Figure size 432x288 with 1 Axes>"
      ]
     },
     "metadata": {
      "needs_background": "light"
     },
     "output_type": "display_data"
    }
   ],
   "source": [
    "# đồ thị histogram của nhóm 'US'\n",
    "((data_outlier_exc_2[data_outlier_exc_2.production_countries == 'US'].revenue)/1000000).plot(kind = 'hist')"
   ]
  },
  {
   "cell_type": "code",
   "execution_count": null,
   "metadata": {},
   "outputs": [],
   "source": [
    "- Các kiểm định K-S về phân phối chuẩn của các nhóm đều có p_value rất nhỏ chứng tỏ chúng ta bác bỏ giả\n",
    "thuyết Ho rằng các nhóm có phân phối chuẩn.\n",
    "- Khi giả thuyết về phân phối chuẩn của dữ liệu bị vi phạm kiểm định ANOVA sẽ kém tin cậy.\n",
    "- Theo đó, đề nghị thực hiện kiểm định ANOVA như một phương pháp tham khảo đồng thời thực hiện kiểm\n",
    "định Mann-Whitney với nhóm DE - US và nhóm DE, US v.s. non-DE, US."
   ]
  },
  {
   "cell_type": "code",
   "execution_count": 49,
   "metadata": {},
   "outputs": [
    {
     "name": "stdout",
     "output_type": "stream",
     "text": [
      "F statistic: 5.657993\n",
      "p_value: 0.000153\n"
     ]
    }
   ],
   "source": [
    "# Kiểm định ANOVA cho nhóm 'phim phổ thông'\n",
    "data_ANOVA = ANOVA_parsing(*data_outlier_exc_2_grouped.revenue)\n",
    "stat, p_value = stats.f_oneway(*data_ANOVA)\n",
    "print('F statistic: %f' %stat)\n",
    "print('p_value: %f' %p_value)"
   ]
  },
  {
   "cell_type": "code",
   "execution_count": null,
   "metadata": {},
   "outputs": [],
   "source": [
    "- Kiểm định ANOVA cho kết quả phân phối F là 5,66 và p_value là 0,000153\n",
    "- Với mức ý nghĩa 5%, với p_value = 0,000153 chúng ta bác bỏ giả huyết Ho về việc doanh thu trung bình\n",
    "của các nhóm trong tập tổng thể là bằng nhau."
   ]
  },
  {
   "cell_type": "code",
   "execution_count": 50,
   "metadata": {},
   "outputs": [
    {
     "name": "stdout",
     "output_type": "stream",
     "text": [
      "F statistic: 511547.500000\n",
      "p_value: 0.271360\n"
     ]
    }
   ],
   "source": [
    "# kiểm định Mann-Whitney cho nhóm DE-US\n",
    "DE = data_outlier_exc_2[data_outlier_exc_2.production_countries == 'DE'].revenue\n",
    "US = data_outlier_exc_2[data_outlier_exc_2.production_countries == 'US'].revenue\n",
    "stat, p_value = stats.mannwhitneyu(DE, US)\n",
    "print('F statistic: %f' %stat)\n",
    "print('p_value: %f' %p_value)"
   ]
  },
  {
   "cell_type": "code",
   "execution_count": null,
   "metadata": {},
   "outputs": [],
   "source": [
    "- Với mức ý nghĩa 5%, với p_value = 0,27136 chúng ta không có cơ sở bác bỏ giả thuyết Ho về việc doanh\n",
    "thu trung bình của DE và US bằng nhau."
   ]
  },
  {
   "cell_type": "code",
   "execution_count": 51,
   "metadata": {},
   "outputs": [
    {
     "name": "stdout",
     "output_type": "stream",
     "text": [
      "F statistic: 1899292.000000\n",
      "p_value: 0.000000\n"
     ]
    }
   ],
   "source": [
    "# kiểm định Mann-Whitney cho nhóm DE,US v.s. non-DE,US\n",
    "DEUS = data_outlier_exc_2[data_outlier_exc_2.production_countries.isin(['DE', 'US'])].revenue\n",
    "CAFRGB = data_outlier_exc_2[data_outlier_exc_2.production_countries.isin(['CA', 'FR', 'GB'])].revenue\n",
    "stat, p_value = stats.mannwhitneyu(DEUS, CAFRGB)\n",
    "print('F statistic: %f' %stat)\n",
    "print('p_value: %f' %p_value)"
   ]
  },
  {
   "cell_type": "code",
   "execution_count": null,
   "metadata": {},
   "outputs": [],
   "source": [
    "- Với mức ý nghĩa 5%, với p_value = 0,00 chúng ta bác bỏ giả thuyết Ho về việc doanh thu trung bình\n",
    "giữa hai nhóm là bằng nhau."
   ]
  },
  {
   "cell_type": "code",
   "execution_count": null,
   "metadata": {},
   "outputs": [],
   "source": [
    "c) Kiểm định ANOVA cho tập 'phim bom tấn'"
   ]
  },
  {
   "cell_type": "code",
   "execution_count": 52,
   "metadata": {},
   "outputs": [
    {
     "name": "stdout",
     "output_type": "stream",
     "text": [
      "F statistic: 301.275332\n",
      "p_value: 0.000000\n"
     ]
    }
   ],
   "source": [
    "# thực hiện kiểm định K-S về giả thuyết phân phối chuẩn của nhóm 'US'\n",
    "stat, p_value = stats.normaltest(data_outlier_2[data_outlier_2.production_countries == 'US'].revenue)\n",
    "print('F statistic: %f' %stat)\n",
    "print('p_value: %f' %p_value)"
   ]
  },
  {
   "cell_type": "code",
   "execution_count": 53,
   "metadata": {},
   "outputs": [
    {
     "data": {
      "text/plain": [
       "<matplotlib.axes._subplots.AxesSubplot at 0x1b0efac2588>"
      ]
     },
     "execution_count": 53,
     "metadata": {},
     "output_type": "execute_result"
    },
    {
     "data": {
      "image/png": "[encoded data removed]",
      "text/plain": [
       "<Figure size 432x288 with 1 Axes>"
      ]
     },
     "metadata": {
      "needs_background": "light"
     },
     "output_type": "display_data"
    }
   ],
   "source": [
    "# đồ thị histogram của nhóm 'US'\n",
    "(data_outlier_2[data_outlier_2.production_countries == 'US'].revenue/1000000).plot(kind = 'hist')"
   ]
  },
  {
   "cell_type": "code",
   "execution_count": 54,
   "metadata": {},
   "outputs": [
    {
     "name": "stdout",
     "output_type": "stream",
     "text": [
      "F statistic: 86.328708\n",
      "p_value: 0.000000\n"
     ]
    }
   ],
   "source": [
    "# thực hiện kiểm định K-S về giả thuyết phân phối chuẩn của nhóm 'GB'\n",
    "stat, p_value = stats.normaltest(data_outlier_2[data_outlier_2.production_countries == 'GB'].revenue)\n",
    "print('F statistic: %f' %stat)\n",
    "print('p_value: %f' %p_value)"
   ]
  },
  {
   "cell_type": "code",
   "execution_count": 55,
   "metadata": {},
   "outputs": [
    {
     "data": {
      "text/plain": [
       "<matplotlib.axes._subplots.AxesSubplot at 0x1b0efaeef98>"
      ]
     },
     "execution_count": 55,
     "metadata": {},
     "output_type": "execute_result"
    },
    {
     "data": {
      "image/png": "[encoded data removed]",
      "text/plain": [
       "<Figure size 432x288 with 1 Axes>"
      ]
     },
     "metadata": {
      "needs_background": "light"
     },
     "output_type": "display_data"
    }
   ],
   "source": [
    "# đồ thị histogram của nhóm 'GB'\n",
    "(data_outlier_2[data_outlier_2.production_countries == 'GB'].revenue/1000000).plot(kind = 'hist')"
   ]
  },
  {
   "cell_type": "code",
   "execution_count": null,
   "metadata": {},
   "outputs": [],
   "source": [
    "Cũng giống như nhóm 'phim phổ thông', giả thuyết phân phối chuẩn của dữ liệu trong nhóm 'phim bom tấn'\n",
    "không đáp ứng. Do đó, đề nghị thực hiện kiểm định ANOVA như một tham khảo đồng thời với kiểm định\n",
    "Mann-Whitney"
   ]
  },
  {
   "cell_type": "code",
   "execution_count": 56,
   "metadata": {},
   "outputs": [
    {
     "name": "stdout",
     "output_type": "stream",
     "text": [
      "F statistic: 3.014081\n",
      "p_value: 0.083129\n"
     ]
    }
   ],
   "source": [
    "# Kiểm định ANOVA cho nhóm 'phim bom tấn'\n",
    "data_ANOVA = ANOVA_parsing(*data_outlier_2_grouped.revenue)\n",
    "stat, p_value = stats.f_oneway(*data_ANOVA)\n",
    "print('F statistic: %f' %stat)\n",
    "print('p_value: %f' %p_value)"
   ]
  },
  {
   "cell_type": "code",
   "execution_count": null,
   "metadata": {},
   "outputs": [],
   "source": [
    "- Kiểm định ANOVA cho kết quả phân phối F là 3,01 và p_value là 0,083\n",
    "- Với mức ý nghĩa 5%, với p_value = 0,083 chúng ta không đủ cơ sở để bác bỏ giả thuyết Ho về doanh thu\n",
    "trung bình của các nhóm là bằng nhau. Như vậy trong nhóm 'phim bom tấn' doanh thu trung bình giữa GB\n",
    "và US không khác nhau một cách có ý nghĩa thống kê."
   ]
  },
  {
   "cell_type": "code",
   "execution_count": 57,
   "metadata": {},
   "outputs": [
    {
     "name": "stdout",
     "output_type": "stream",
     "text": [
      "F statistic: 13562.500000\n",
      "p_value: 0.036402\n"
     ]
    }
   ],
   "source": [
    "# kiểm định Mann-Whitney cho nhóm GB-US\n",
    "GB = data_outlier_2[data_outlier_2.production_countries == 'GB'].revenue\n",
    "US = data_outlier_2[data_outlier_2.production_countries == 'US'].revenue\n",
    "stat, p_value = stats.mannwhitneyu(GB, US)\n",
    "print('F statistic: %f' %stat)\n",
    "print('p_value: %f' %p_value)"
   ]
  },
  {
   "cell_type": "code",
   "execution_count": null,
   "metadata": {},
   "outputs": [],
   "source": [
    "- Với mức ý nghĩa 5%, với p_value = 0,036 chúng ta bác bỏ giả thuyết Ho về doanh thu trung bình của các\n",
    "nhóm là bằng nhau.\n",
    "- Như vậy kiểm định Mann-Whitney cho kết quả ngược lại với kiểm định ANOVA\n",
    "- Kiểm định Mann-Whitney là kiểm định phi tham số, phù hợp hơn với mẫu không đáp ứng yêu cầu phân phối\n",
    "chuẩn nên ta sẽ kết luận theo kiểm định Mann-Whitney."
   ]
  },
  {
   "cell_type": "code",
   "execution_count": null,
   "metadata": {},
   "outputs": [],
   "source": [
    "3.3. Kết luận câu 1\n",
    "- Doanh thu trung bình của các phim chia thành hai nhóm là nhóm 'phim phổ thông' với doanh thu phổ biến\n",
    "trong mức từ $0M đến$231M và nhóm 'phim bom tấn' với doanh thu từ $232M đến $2783M. Các 'phim bom tấn'\n",
    "chủ yếu được sản xuất tại Hoa Kỳ (US) và Anh (GB) .\n",
    "- Trong nhóm 'phim phổ thông', các phim sản xuất tại Đức (DE) hoặc Hoa Kỳ (US) có doanh thu trung bình\n",
    "cao hơn với các phim sản xuất ở các nước còn lại.\n",
    "- Trong nhóm 'phim bom tấn', các phim sản xuất tại Anh (GB) có doanh thu trung bình cao hơn sản xuất\n",
    "tại Hoa Kỳ (US)."
   ]
  },
  {
   "cell_type": "code",
   "execution_count": null,
   "metadata": {},
   "outputs": [],
   "source": [
    "II. Ảnh hưởng của 'genres' đến 'revenue' và 'vota_average' (câu 2)"
   ]
  },
  {
   "cell_type": "code",
   "execution_count": null,
   "metadata": {},
   "outputs": [],
   "source": [
    "1. Thống kê mô tả 'vota_average'"
   ]
  },
  {
   "cell_type": "code",
   "execution_count": 58,
   "metadata": {},
   "outputs": [
    {
     "data": {
      "text/plain": [
       "count   4,803.00\n",
       "mean        6.09\n",
       "std         1.19\n",
       "min         0.00\n",
       "25%         5.60\n",
       "50%         6.20\n",
       "75%         6.80\n",
       "max        10.00\n",
       "Name: vote_average, dtype: float64"
      ]
     },
     "execution_count": 58,
     "metadata": {},
     "output_type": "execute_result"
    }
   ],
   "source": [
    "# thống kê mô tả 'vote_average'\n",
    "data.vote_average.describe()"
   ]
  },
  {
   "cell_type": "code",
   "execution_count": 59,
   "metadata": {},
   "outputs": [
    {
     "data": {
      "text/plain": [
       "<matplotlib.axes._subplots.AxesSubplot at 0x1b0efba9080>"
      ]
     },
     "execution_count": 59,
     "metadata": {},
     "output_type": "execute_result"
    },
    {
     "data": {
      "image/png": "[encoded data removed]",
      "text/plain": [
       "<Figure size 432x288 with 1 Axes>"
      ]
     },
     "metadata": {
      "needs_background": "light"
     },
     "output_type": "display_data"
    }
   ],
   "source": [
    "# đồ thị histogram 'vote_average'\n",
    "data.vote_average.plot(kind = 'hist')"
   ]
  },
  {
   "cell_type": "code",
   "execution_count": 60,
   "metadata": {},
   "outputs": [
    {
     "data": {
      "text/plain": [
       "<matplotlib.axes._subplots.AxesSubplot at 0x1b0efc12eb8>"
      ]
     },
     "execution_count": 60,
     "metadata": {},
     "output_type": "execute_result"
    },
    {
     "data": {
      "image/png": "[encoded data removed]",
      "text/plain": [
       "<Figure size 432x288 with 1 Axes>"
      ]
     },
     "metadata": {
      "needs_background": "light"
     },
     "output_type": "display_data"
    }
   ],
   "source": [
    "# đồ thị boxplot 'vote_average'\n",
    "data.vote_average.plot(kind = 'box')"
   ]
  },
  {
   "cell_type": "code",
   "execution_count": 61,
   "metadata": {},
   "outputs": [
    {
     "data": {
      "text/html": [
       "<div>\n",
       "<style scoped>\n",
       "    .dataframe tbody tr th:only-of-type {\n",
       "        vertical-align: middle;\n",
       "    }\n",
       "\n",
       "    .dataframe tbody tr th {\n",
       "        vertical-align: top;\n",
       "    }\n",
       "\n",
       "    .dataframe thead th {\n",
       "        text-align: right;\n",
       "    }\n",
       "</style>\n",
       "<table border=\"1\" class=\"dataframe\">\n",
       "  <thead>\n",
       "    <tr style=\"text-align: right;\">\n",
       "      <th></th>\n",
       "      <th>revenue</th>\n",
       "      <th>vote_average</th>\n",
       "    </tr>\n",
       "  </thead>\n",
       "  <tbody>\n",
       "    <tr>\n",
       "      <th>revenue</th>\n",
       "      <td>1.00</td>\n",
       "      <td>0.20</td>\n",
       "    </tr>\n",
       "    <tr>\n",
       "      <th>vote_average</th>\n",
       "      <td>0.20</td>\n",
       "      <td>1.00</td>\n",
       "    </tr>\n",
       "  </tbody>\n",
       "</table>\n",
       "</div>"
      ],
      "text/plain": [
       "              revenue  vote_average\n",
       "revenue          1.00          0.20\n",
       "vote_average     0.20          1.00"
      ]
     },
     "execution_count": 61,
     "metadata": {},
     "output_type": "execute_result"
    }
   ],
   "source": [
    "# hệ số tương quan giữa 'revenue' và 'vote_average'\n",
    "data.loc[:,['revenue','vote_average']].corr()"
   ]
  },
  {
   "cell_type": "code",
   "execution_count": 62,
   "metadata": {},
   "outputs": [
    {
     "data": {
      "text/plain": [
       "<matplotlib.axes._subplots.AxesSubplot at 0x1b0efc600b8>"
      ]
     },
     "execution_count": 62,
     "metadata": {},
     "output_type": "execute_result"
    },
    {
     "data": {
      "image/png": "[encoded data removed]",
      "text/plain": [
       "<Figure size 432x288 with 1 Axes>"
      ]
     },
     "metadata": {
      "needs_background": "light"
     },
     "output_type": "display_data"
    }
   ],
   "source": [
    "# đồ thị scatter giữa 'revenue' và 'vote_average'\n",
    "data.plot('revenue', 'vote_average', kind = 'scatter')"
   ]
  },
  {
   "cell_type": "code",
   "execution_count": null,
   "metadata": {},
   "outputs": [],
   "source": [
    "Thống kê mô tả 'vote_average'\n",
    "- Số lượng quan sát: 4803\n",
    "- Trung bình: 6,09\n",
    "- Độ lệch chuẩn: 1,19\n",
    "- Trung vị: 6,20\n",
    "- Đồ thị histogram có dạng phân phối chuẩn\n",
    "\n",
    "Tương quan giữa 'revenue' và 'vote_average':\n",
    "- Hệ số tương quan giữa hai biến là tương đối thấp, đạt 0,20\n",
    "- Đồ thị scatter cũng không cho thấy tương quan rõ ràng nào giữa 2 biến"
   ]
  },
  {
   "cell_type": "code",
   "execution_count": null,
   "metadata": {},
   "outputs": [],
   "source": [
    "2. Xử lý dữ liệu"
   ]
  },
  {
   "cell_type": "code",
   "execution_count": null,
   "metadata": {},
   "outputs": [],
   "source": [
    "- Một quan sát có từ 2 'genres' trở lên thì 'revenue' và 'vote_average' sẽ được ghi nhận cho tất cả\n",
    "các 'genres' bằng cách thêm dòng vào dữ liệu như cách xử lý 'revenue' theo 'production_countries' ở\n",
    "trên.\n",
    "- Ngoài ra, thực tế các phim đều thuộc một lúc nhiều thể loại. Do đó, chúng ta còn phân tích theo nhóm\n",
    "thể loại.\n",
    "Ví dụ: một phim vừa thuộc 'genres' Romance và Comedy sẽ được xếp vào nhóm ['Romance', 'Comedy']\n",
    "- Các dữ liệu sau khi được xử lý sẽ được nhóm lại theo 'genres'.\n",
    "- Có một số thể loại có số lượng phim trình chiếu rất ít, khi đưa các thể loại này vào phân tích sẽ\n",
    "không đảm bảo đủ yêu cầu về cỡ mẫu. Do đó, các thể loại có số lượng phim chiếu dưới 100 sẽ được loại\n",
    "ra khỏi phân tích. Riêng nhóm thể loại có số lượng phim dưới 50 sẽ bị loại"
   ]
  },
  {
   "cell_type": "code",
   "execution_count": 63,
   "metadata": {},
   "outputs": [],
   "source": [
    "data_3 = genres_transformation(data)"
   ]
  },
  {
   "cell_type": "code",
   "execution_count": 64,
   "metadata": {},
   "outputs": [],
   "source": [
    "data_3 = data_3.groupby('genres').filter(lambda x: len(x) > 100)"
   ]
  },
  {
   "cell_type": "code",
   "execution_count": 65,
   "metadata": {},
   "outputs": [],
   "source": [
    "data_3_grouped = data_3.groupby('genres')"
   ]
  },
  {
   "cell_type": "code",
   "execution_count": 66,
   "metadata": {},
   "outputs": [],
   "source": [
    "data_genstr = data.copy()"
   ]
  },
  {
   "cell_type": "code",
   "execution_count": 67,
   "metadata": {},
   "outputs": [],
   "source": [
    "data_genstr['genres'] = data_genstr['genres'].apply(str)"
   ]
  },
  {
   "cell_type": "code",
   "execution_count": 68,
   "metadata": {},
   "outputs": [],
   "source": [
    "data_genstr = data_genstr.groupby('genres').filter(lambda x: len(x) > 50)"
   ]
  },
  {
   "cell_type": "code",
   "execution_count": 69,
   "metadata": {},
   "outputs": [],
   "source": [
    "data_genstr_grouped = data_genstr.groupby('genres')"
   ]
  },
  {
   "cell_type": "code",
   "execution_count": 70,
   "metadata": {},
   "outputs": [
    {
     "data": {
      "text/html": [
       "<div>\n",
       "<style scoped>\n",
       "    .dataframe tbody tr th:only-of-type {\n",
       "        vertical-align: middle;\n",
       "    }\n",
       "\n",
       "    .dataframe tbody tr th {\n",
       "        vertical-align: top;\n",
       "    }\n",
       "\n",
       "    .dataframe thead th {\n",
       "        text-align: right;\n",
       "    }\n",
       "</style>\n",
       "<table border=\"1\" class=\"dataframe\">\n",
       "  <thead>\n",
       "    <tr style=\"text-align: right;\">\n",
       "      <th></th>\n",
       "      <th>count</th>\n",
       "      <th>mean</th>\n",
       "      <th>std</th>\n",
       "      <th>min</th>\n",
       "      <th>25%</th>\n",
       "      <th>50%</th>\n",
       "      <th>75%</th>\n",
       "      <th>max</th>\n",
       "    </tr>\n",
       "    <tr>\n",
       "      <th>genres</th>\n",
       "      <th></th>\n",
       "      <th></th>\n",
       "      <th></th>\n",
       "      <th></th>\n",
       "      <th></th>\n",
       "      <th></th>\n",
       "      <th></th>\n",
       "      <th></th>\n",
       "    </tr>\n",
       "  </thead>\n",
       "  <tbody>\n",
       "    <tr>\n",
       "      <th>Animation</th>\n",
       "      <td>234.00</td>\n",
       "      <td>225,693,025.06</td>\n",
       "      <td>262,978,335.82</td>\n",
       "      <td>0.00</td>\n",
       "      <td>7,772,228.50</td>\n",
       "      <td>120,450,950.00</td>\n",
       "      <td>353,130,933.00</td>\n",
       "      <td>1,274,219,009.00</td>\n",
       "    </tr>\n",
       "    <tr>\n",
       "      <th>Adventure</th>\n",
       "      <td>790.00</td>\n",
       "      <td>208,660,204.49</td>\n",
       "      <td>284,606,640.99</td>\n",
       "      <td>0.00</td>\n",
       "      <td>17,233,641.50</td>\n",
       "      <td>95,939,403.50</td>\n",
       "      <td>300,225,567.50</td>\n",
       "      <td>2,787,965,087.00</td>\n",
       "    </tr>\n",
       "    <tr>\n",
       "      <th>Fantasy</th>\n",
       "      <td>424.00</td>\n",
       "      <td>193,354,245.11</td>\n",
       "      <td>283,225,087.63</td>\n",
       "      <td>0.00</td>\n",
       "      <td>11,455,054.75</td>\n",
       "      <td>89,477,332.00</td>\n",
       "      <td>245,551,323.75</td>\n",
       "      <td>2,787,965,087.00</td>\n",
       "    </tr>\n",
       "    <tr>\n",
       "      <th>Family</th>\n",
       "      <td>513.00</td>\n",
       "      <td>162,345,494.52</td>\n",
       "      <td>233,596,609.82</td>\n",
       "      <td>0.00</td>\n",
       "      <td>0.00</td>\n",
       "      <td>64,459,316.00</td>\n",
       "      <td>201,584,141.00</td>\n",
       "      <td>1,274,219,009.00</td>\n",
       "    </tr>\n",
       "    <tr>\n",
       "      <th>Science Fiction</th>\n",
       "      <td>535.00</td>\n",
       "      <td>152,456,515.41</td>\n",
       "      <td>261,311,885.03</td>\n",
       "      <td>0.00</td>\n",
       "      <td>4,153,736.50</td>\n",
       "      <td>50,244,700.00</td>\n",
       "      <td>175,953,911.00</td>\n",
       "      <td>2,787,965,087.00</td>\n",
       "    </tr>\n",
       "    <tr>\n",
       "      <th>Action</th>\n",
       "      <td>1,154.00</td>\n",
       "      <td>141,213,097.50</td>\n",
       "      <td>230,810,642.18</td>\n",
       "      <td>0.00</td>\n",
       "      <td>5,740,748.00</td>\n",
       "      <td>54,550,709.50</td>\n",
       "      <td>169,766,335.50</td>\n",
       "      <td>2,787,965,087.00</td>\n",
       "    </tr>\n",
       "    <tr>\n",
       "      <th>War</th>\n",
       "      <td>144.00</td>\n",
       "      <td>84,155,874.38</td>\n",
       "      <td>117,761,062.03</td>\n",
       "      <td>0.00</td>\n",
       "      <td>6,293,966.25</td>\n",
       "      <td>28,188,328.00</td>\n",
       "      <td>112,558,968.25</td>\n",
       "      <td>542,307,423.00</td>\n",
       "    </tr>\n",
       "    <tr>\n",
       "      <th>Thriller</th>\n",
       "      <td>1,274.00</td>\n",
       "      <td>81,044,290.64</td>\n",
       "      <td>143,634,982.52</td>\n",
       "      <td>0.00</td>\n",
       "      <td>17.75</td>\n",
       "      <td>28,965,700.50</td>\n",
       "      <td>96,981,862.50</td>\n",
       "      <td>1,845,034,188.00</td>\n",
       "    </tr>\n",
       "    <tr>\n",
       "      <th>Mystery</th>\n",
       "      <td>348.00</td>\n",
       "      <td>78,300,927.47</td>\n",
       "      <td>124,762,706.31</td>\n",
       "      <td>0.00</td>\n",
       "      <td>423,164.75</td>\n",
       "      <td>28,560,550.00</td>\n",
       "      <td>100,766,243.00</td>\n",
       "      <td>938,212,738.00</td>\n",
       "    </tr>\n",
       "    <tr>\n",
       "      <th>Comedy</th>\n",
       "      <td>1,722.00</td>\n",
       "      <td>71,289,499.19</td>\n",
       "      <td>126,978,291.68</td>\n",
       "      <td>0.00</td>\n",
       "      <td>0.00</td>\n",
       "      <td>17,428,581.50</td>\n",
       "      <td>90,294,820.00</td>\n",
       "      <td>1,156,730,962.00</td>\n",
       "    </tr>\n",
       "    <tr>\n",
       "      <th>Crime</th>\n",
       "      <td>696.00</td>\n",
       "      <td>66,150,661.91</td>\n",
       "      <td>110,819,515.61</td>\n",
       "      <td>0.00</td>\n",
       "      <td>236,728.00</td>\n",
       "      <td>24,194,732.00</td>\n",
       "      <td>83,786,936.50</td>\n",
       "      <td>1,084,939,099.00</td>\n",
       "    </tr>\n",
       "    <tr>\n",
       "      <th>Romance</th>\n",
       "      <td>894.00</td>\n",
       "      <td>60,002,390.99</td>\n",
       "      <td>120,726,579.55</td>\n",
       "      <td>0.00</td>\n",
       "      <td>0.00</td>\n",
       "      <td>12,952,023.50</td>\n",
       "      <td>68,105,350.25</td>\n",
       "      <td>1,845,034,188.00</td>\n",
       "    </tr>\n",
       "    <tr>\n",
       "      <th>History</th>\n",
       "      <td>197.00</td>\n",
       "      <td>57,523,562.09</td>\n",
       "      <td>85,752,873.82</td>\n",
       "      <td>0.00</td>\n",
       "      <td>108,348.00</td>\n",
       "      <td>25,819,961.00</td>\n",
       "      <td>76,270,454.00</td>\n",
       "      <td>481,840,909.00</td>\n",
       "    </tr>\n",
       "    <tr>\n",
       "      <th>Drama</th>\n",
       "      <td>2,297.00</td>\n",
       "      <td>52,116,231.60</td>\n",
       "      <td>108,834,770.65</td>\n",
       "      <td>0.00</td>\n",
       "      <td>0.00</td>\n",
       "      <td>9,726,954.00</td>\n",
       "      <td>57,469,467.00</td>\n",
       "      <td>1,845,034,188.00</td>\n",
       "    </tr>\n",
       "    <tr>\n",
       "      <th>Music</th>\n",
       "      <td>185.00</td>\n",
       "      <td>48,455,951.77</td>\n",
       "      <td>85,012,244.39</td>\n",
       "      <td>0.00</td>\n",
       "      <td>0.00</td>\n",
       "      <td>9,495,408.00</td>\n",
       "      <td>57,588,485.00</td>\n",
       "      <td>443,140,005.00</td>\n",
       "    </tr>\n",
       "    <tr>\n",
       "      <th>Horror</th>\n",
       "      <td>519.00</td>\n",
       "      <td>43,545,076.42</td>\n",
       "      <td>70,520,148.33</td>\n",
       "      <td>0.00</td>\n",
       "      <td>0.00</td>\n",
       "      <td>14,828,081.00</td>\n",
       "      <td>61,518,986.00</td>\n",
       "      <td>585,349,010.00</td>\n",
       "    </tr>\n",
       "    <tr>\n",
       "      <th>Documentary</th>\n",
       "      <td>110.00</td>\n",
       "      <td>9,838,887.98</td>\n",
       "      <td>24,427,702.45</td>\n",
       "      <td>0.00</td>\n",
       "      <td>0.00</td>\n",
       "      <td>0.00</td>\n",
       "      <td>6,048,281.75</td>\n",
       "      <td>127,392,239.00</td>\n",
       "    </tr>\n",
       "  </tbody>\n",
       "</table>\n",
       "</div>"
      ],
      "text/plain": [
       "                   count           mean            std  min           25%  \\\n",
       "genres                                                                      \n",
       "Animation         234.00 225,693,025.06 262,978,335.82 0.00  7,772,228.50   \n",
       "Adventure         790.00 208,660,204.49 284,606,640.99 0.00 17,233,641.50   \n",
       "Fantasy           424.00 193,354,245.11 283,225,087.63 0.00 11,455,054.75   \n",
       "Family            513.00 162,345,494.52 233,596,609.82 0.00          0.00   \n",
       "Science Fiction   535.00 152,456,515.41 261,311,885.03 0.00  4,153,736.50   \n",
       "Action          1,154.00 141,213,097.50 230,810,642.18 0.00  5,740,748.00   \n",
       "War               144.00  84,155,874.38 117,761,062.03 0.00  6,293,966.25   \n",
       "Thriller        1,274.00  81,044,290.64 143,634,982.52 0.00         17.75   \n",
       "Mystery           348.00  78,300,927.47 124,762,706.31 0.00    423,164.75   \n",
       "Comedy          1,722.00  71,289,499.19 126,978,291.68 0.00          0.00   \n",
       "Crime             696.00  66,150,661.91 110,819,515.61 0.00    236,728.00   \n",
       "Romance           894.00  60,002,390.99 120,726,579.55 0.00          0.00   \n",
       "History           197.00  57,523,562.09  85,752,873.82 0.00    108,348.00   \n",
       "Drama           2,297.00  52,116,231.60 108,834,770.65 0.00          0.00   \n",
       "Music             185.00  48,455,951.77  85,012,244.39 0.00          0.00   \n",
       "Horror            519.00  43,545,076.42  70,520,148.33 0.00          0.00   \n",
       "Documentary       110.00   9,838,887.98  24,427,702.45 0.00          0.00   \n",
       "\n",
       "                           50%            75%              max  \n",
       "genres                                                          \n",
       "Animation       120,450,950.00 353,130,933.00 1,274,219,009.00  \n",
       "Adventure        95,939,403.50 300,225,567.50 2,787,965,087.00  \n",
       "Fantasy          89,477,332.00 245,551,323.75 2,787,965,087.00  \n",
       "Family           64,459,316.00 201,584,141.00 1,274,219,009.00  \n",
       "Science Fiction  50,244,700.00 175,953,911.00 2,787,965,087.00  \n",
       "Action           54,550,709.50 169,766,335.50 2,787,965,087.00  \n",
       "War              28,188,328.00 112,558,968.25   542,307,423.00  \n",
       "Thriller         28,965,700.50  96,981,862.50 1,845,034,188.00  \n",
       "Mystery          28,560,550.00 100,766,243.00   938,212,738.00  \n",
       "Comedy           17,428,581.50  90,294,820.00 1,156,730,962.00  \n",
       "Crime            24,194,732.00  83,786,936.50 1,084,939,099.00  \n",
       "Romance          12,952,023.50  68,105,350.25 1,845,034,188.00  \n",
       "History          25,819,961.00  76,270,454.00   481,840,909.00  \n",
       "Drama             9,726,954.00  57,469,467.00 1,845,034,188.00  \n",
       "Music             9,495,408.00  57,588,485.00   443,140,005.00  \n",
       "Horror           14,828,081.00  61,518,986.00   585,349,010.00  \n",
       "Documentary               0.00   6,048,281.75   127,392,239.00  "
      ]
     },
     "execution_count": 70,
     "metadata": {},
     "output_type": "execute_result"
    }
   ],
   "source": [
    "# Thống kê mô tả 'revenue' theo thể loại\n",
    "data_3_grouped.revenue.describe().sort_values('mean', ascending = False)"
   ]
  },
  {
   "cell_type": "code",
   "execution_count": null,
   "metadata": {},
   "outputs": [],
   "source": [
    "Thống kê mô tả 'revenue' theo thể loại:\n",
    "- Thể loại có nhiều phim nhất là Drama và ít phim nhất là Documentary\n",
    "- Thể loại có doanh thu trung bình cao nhất là Animation và thấp nhất là Documentary\n",
    "- Thể loại có độ lệch chuẩn doanh thu cao nhất là Adventure và thấp nhất là Documentary"
   ]
  },
  {
   "cell_type": "code",
   "execution_count": 71,
   "metadata": {},
   "outputs": [
    {
     "data": {
      "text/html": [
       "<div>\n",
       "<style scoped>\n",
       "    .dataframe tbody tr th:only-of-type {\n",
       "        vertical-align: middle;\n",
       "    }\n",
       "\n",
       "    .dataframe tbody tr th {\n",
       "        vertical-align: top;\n",
       "    }\n",
       "\n",
       "    .dataframe thead th {\n",
       "        text-align: right;\n",
       "    }\n",
       "</style>\n",
       "<table border=\"1\" class=\"dataframe\">\n",
       "  <thead>\n",
       "    <tr style=\"text-align: right;\">\n",
       "      <th></th>\n",
       "      <th>count</th>\n",
       "      <th>mean</th>\n",
       "      <th>std</th>\n",
       "      <th>min</th>\n",
       "      <th>25%</th>\n",
       "      <th>50%</th>\n",
       "      <th>75%</th>\n",
       "      <th>max</th>\n",
       "    </tr>\n",
       "    <tr>\n",
       "      <th>genres</th>\n",
       "      <th></th>\n",
       "      <th></th>\n",
       "      <th></th>\n",
       "      <th></th>\n",
       "      <th></th>\n",
       "      <th></th>\n",
       "      <th></th>\n",
       "      <th></th>\n",
       "    </tr>\n",
       "  </thead>\n",
       "  <tbody>\n",
       "    <tr>\n",
       "      <th>History</th>\n",
       "      <td>197.00</td>\n",
       "      <td>6.72</td>\n",
       "      <td>0.74</td>\n",
       "      <td>3.90</td>\n",
       "      <td>6.30</td>\n",
       "      <td>6.70</td>\n",
       "      <td>7.20</td>\n",
       "      <td>9.30</td>\n",
       "    </tr>\n",
       "    <tr>\n",
       "      <th>War</th>\n",
       "      <td>144.00</td>\n",
       "      <td>6.71</td>\n",
       "      <td>0.82</td>\n",
       "      <td>3.00</td>\n",
       "      <td>6.20</td>\n",
       "      <td>6.75</td>\n",
       "      <td>7.23</td>\n",
       "      <td>8.30</td>\n",
       "    </tr>\n",
       "    <tr>\n",
       "      <th>Drama</th>\n",
       "      <td>2,297.00</td>\n",
       "      <td>6.39</td>\n",
       "      <td>1.06</td>\n",
       "      <td>0.00</td>\n",
       "      <td>5.90</td>\n",
       "      <td>6.50</td>\n",
       "      <td>7.00</td>\n",
       "      <td>10.00</td>\n",
       "    </tr>\n",
       "    <tr>\n",
       "      <th>Music</th>\n",
       "      <td>185.00</td>\n",
       "      <td>6.36</td>\n",
       "      <td>1.05</td>\n",
       "      <td>0.00</td>\n",
       "      <td>6.00</td>\n",
       "      <td>6.50</td>\n",
       "      <td>7.00</td>\n",
       "      <td>8.00</td>\n",
       "    </tr>\n",
       "    <tr>\n",
       "      <th>Animation</th>\n",
       "      <td>234.00</td>\n",
       "      <td>6.34</td>\n",
       "      <td>1.01</td>\n",
       "      <td>0.50</td>\n",
       "      <td>5.80</td>\n",
       "      <td>6.50</td>\n",
       "      <td>6.97</td>\n",
       "      <td>8.30</td>\n",
       "    </tr>\n",
       "    <tr>\n",
       "      <th>Crime</th>\n",
       "      <td>696.00</td>\n",
       "      <td>6.27</td>\n",
       "      <td>1.00</td>\n",
       "      <td>0.00</td>\n",
       "      <td>5.80</td>\n",
       "      <td>6.30</td>\n",
       "      <td>6.90</td>\n",
       "      <td>8.50</td>\n",
       "    </tr>\n",
       "    <tr>\n",
       "      <th>Documentary</th>\n",
       "      <td>110.00</td>\n",
       "      <td>6.24</td>\n",
       "      <td>1.93</td>\n",
       "      <td>0.00</td>\n",
       "      <td>5.90</td>\n",
       "      <td>6.80</td>\n",
       "      <td>7.30</td>\n",
       "      <td>8.30</td>\n",
       "    </tr>\n",
       "    <tr>\n",
       "      <th>Romance</th>\n",
       "      <td>894.00</td>\n",
       "      <td>6.21</td>\n",
       "      <td>0.95</td>\n",
       "      <td>0.00</td>\n",
       "      <td>5.70</td>\n",
       "      <td>6.30</td>\n",
       "      <td>6.80</td>\n",
       "      <td>10.00</td>\n",
       "    </tr>\n",
       "    <tr>\n",
       "      <th>Mystery</th>\n",
       "      <td>348.00</td>\n",
       "      <td>6.18</td>\n",
       "      <td>1.05</td>\n",
       "      <td>0.00</td>\n",
       "      <td>5.80</td>\n",
       "      <td>6.30</td>\n",
       "      <td>6.80</td>\n",
       "      <td>8.10</td>\n",
       "    </tr>\n",
       "    <tr>\n",
       "      <th>Adventure</th>\n",
       "      <td>790.00</td>\n",
       "      <td>6.16</td>\n",
       "      <td>0.92</td>\n",
       "      <td>2.90</td>\n",
       "      <td>5.60</td>\n",
       "      <td>6.20</td>\n",
       "      <td>6.80</td>\n",
       "      <td>8.40</td>\n",
       "    </tr>\n",
       "    <tr>\n",
       "      <th>Fantasy</th>\n",
       "      <td>424.00</td>\n",
       "      <td>6.10</td>\n",
       "      <td>0.92</td>\n",
       "      <td>2.90</td>\n",
       "      <td>5.50</td>\n",
       "      <td>6.10</td>\n",
       "      <td>6.70</td>\n",
       "      <td>8.30</td>\n",
       "    </tr>\n",
       "    <tr>\n",
       "      <th>Family</th>\n",
       "      <td>513.00</td>\n",
       "      <td>6.03</td>\n",
       "      <td>1.10</td>\n",
       "      <td>0.00</td>\n",
       "      <td>5.50</td>\n",
       "      <td>6.10</td>\n",
       "      <td>6.70</td>\n",
       "      <td>10.00</td>\n",
       "    </tr>\n",
       "    <tr>\n",
       "      <th>Thriller</th>\n",
       "      <td>1,274.00</td>\n",
       "      <td>6.01</td>\n",
       "      <td>1.04</td>\n",
       "      <td>0.00</td>\n",
       "      <td>5.50</td>\n",
       "      <td>6.10</td>\n",
       "      <td>6.60</td>\n",
       "      <td>8.30</td>\n",
       "    </tr>\n",
       "    <tr>\n",
       "      <th>Science Fiction</th>\n",
       "      <td>535.00</td>\n",
       "      <td>6.01</td>\n",
       "      <td>1.05</td>\n",
       "      <td>0.00</td>\n",
       "      <td>5.40</td>\n",
       "      <td>6.10</td>\n",
       "      <td>6.70</td>\n",
       "      <td>8.20</td>\n",
       "    </tr>\n",
       "    <tr>\n",
       "      <th>Action</th>\n",
       "      <td>1,154.00</td>\n",
       "      <td>5.99</td>\n",
       "      <td>1.02</td>\n",
       "      <td>0.00</td>\n",
       "      <td>5.50</td>\n",
       "      <td>6.10</td>\n",
       "      <td>6.60</td>\n",
       "      <td>9.30</td>\n",
       "    </tr>\n",
       "    <tr>\n",
       "      <th>Comedy</th>\n",
       "      <td>1,722.00</td>\n",
       "      <td>5.95</td>\n",
       "      <td>1.05</td>\n",
       "      <td>0.00</td>\n",
       "      <td>5.50</td>\n",
       "      <td>6.00</td>\n",
       "      <td>6.60</td>\n",
       "      <td>10.00</td>\n",
       "    </tr>\n",
       "    <tr>\n",
       "      <th>Horror</th>\n",
       "      <td>519.00</td>\n",
       "      <td>5.63</td>\n",
       "      <td>1.12</td>\n",
       "      <td>0.00</td>\n",
       "      <td>5.10</td>\n",
       "      <td>5.80</td>\n",
       "      <td>6.30</td>\n",
       "      <td>8.20</td>\n",
       "    </tr>\n",
       "  </tbody>\n",
       "</table>\n",
       "</div>"
      ],
      "text/plain": [
       "                   count  mean  std  min  25%  50%  75%   max\n",
       "genres                                                       \n",
       "History           197.00  6.72 0.74 3.90 6.30 6.70 7.20  9.30\n",
       "War               144.00  6.71 0.82 3.00 6.20 6.75 7.23  8.30\n",
       "Drama           2,297.00  6.39 1.06 0.00 5.90 6.50 7.00 10.00\n",
       "Music             185.00  6.36 1.05 0.00 6.00 6.50 7.00  8.00\n",
       "Animation         234.00  6.34 1.01 0.50 5.80 6.50 6.97  8.30\n",
       "Crime             696.00  6.27 1.00 0.00 5.80 6.30 6.90  8.50\n",
       "Documentary       110.00  6.24 1.93 0.00 5.90 6.80 7.30  8.30\n",
       "Romance           894.00  6.21 0.95 0.00 5.70 6.30 6.80 10.00\n",
       "Mystery           348.00  6.18 1.05 0.00 5.80 6.30 6.80  8.10\n",
       "Adventure         790.00  6.16 0.92 2.90 5.60 6.20 6.80  8.40\n",
       "Fantasy           424.00  6.10 0.92 2.90 5.50 6.10 6.70  8.30\n",
       "Family            513.00  6.03 1.10 0.00 5.50 6.10 6.70 10.00\n",
       "Thriller        1,274.00  6.01 1.04 0.00 5.50 6.10 6.60  8.30\n",
       "Science Fiction   535.00  6.01 1.05 0.00 5.40 6.10 6.70  8.20\n",
       "Action          1,154.00  5.99 1.02 0.00 5.50 6.10 6.60  9.30\n",
       "Comedy          1,722.00  5.95 1.05 0.00 5.50 6.00 6.60 10.00\n",
       "Horror            519.00  5.63 1.12 0.00 5.10 5.80 6.30  8.20"
      ]
     },
     "execution_count": 71,
     "metadata": {},
     "output_type": "execute_result"
    }
   ],
   "source": [
    "# Thống kê mô tả 'vote_average' theo thể loại\n",
    "data_3_grouped.vote_average.describe().sort_values('mean', ascending = False)"
   ]
  },
  {
   "cell_type": "code",
   "execution_count": null,
   "metadata": {},
   "outputs": [],
   "source": [
    "Thống kê mô tả 'vote_average' theo thể loại:\n",
    "- Thể loại có điểm số trung bình cao nhất là History và thấp nhất là Horror\n",
    "- Thể loại có độ lệch chuẩn cao nhất là Documentary và thấp nhất là History"
   ]
  },
  {
   "cell_type": "code",
   "execution_count": 72,
   "metadata": {},
   "outputs": [
    {
     "data": {
      "text/html": [
       "<div>\n",
       "<style scoped>\n",
       "    .dataframe tbody tr th:only-of-type {\n",
       "        vertical-align: middle;\n",
       "    }\n",
       "\n",
       "    .dataframe tbody tr th {\n",
       "        vertical-align: top;\n",
       "    }\n",
       "\n",
       "    .dataframe thead th {\n",
       "        text-align: right;\n",
       "    }\n",
       "</style>\n",
       "<table border=\"1\" class=\"dataframe\">\n",
       "  <thead>\n",
       "    <tr style=\"text-align: right;\">\n",
       "      <th></th>\n",
       "      <th>count</th>\n",
       "      <th>mean</th>\n",
       "      <th>std</th>\n",
       "      <th>min</th>\n",
       "      <th>25%</th>\n",
       "      <th>50%</th>\n",
       "      <th>75%</th>\n",
       "      <th>max</th>\n",
       "    </tr>\n",
       "    <tr>\n",
       "      <th>genres</th>\n",
       "      <th></th>\n",
       "      <th></th>\n",
       "      <th></th>\n",
       "      <th></th>\n",
       "      <th></th>\n",
       "      <th></th>\n",
       "      <th></th>\n",
       "      <th></th>\n",
       "    </tr>\n",
       "  </thead>\n",
       "  <tbody>\n",
       "    <tr>\n",
       "      <th>['Action', 'Adventure', 'Science Fiction']</th>\n",
       "      <td>53.00</td>\n",
       "      <td>483,316,452.96</td>\n",
       "      <td>392,325,264.79</td>\n",
       "      <td>0.00</td>\n",
       "      <td>167,977,596.00</td>\n",
       "      <td>389,681,935.00</td>\n",
       "      <td>769,653,595.00</td>\n",
       "      <td>1,519,557,910.00</td>\n",
       "    </tr>\n",
       "    <tr>\n",
       "      <th>['Action', 'Adventure', 'Thriller']</th>\n",
       "      <td>51.00</td>\n",
       "      <td>223,083,424.00</td>\n",
       "      <td>211,938,665.57</td>\n",
       "      <td>0.00</td>\n",
       "      <td>89,773,246.50</td>\n",
       "      <td>161,777,836.00</td>\n",
       "      <td>295,010,902.50</td>\n",
       "      <td>1,108,561,013.00</td>\n",
       "    </tr>\n",
       "    <tr>\n",
       "      <th>['Action', 'Crime', 'Drama', 'Thriller']</th>\n",
       "      <td>51.00</td>\n",
       "      <td>85,372,167.24</td>\n",
       "      <td>203,286,259.35</td>\n",
       "      <td>0.00</td>\n",
       "      <td>4,621,311.50</td>\n",
       "      <td>19,412,993.00</td>\n",
       "      <td>75,614,695.50</td>\n",
       "      <td>1,084,939,099.00</td>\n",
       "    </tr>\n",
       "    <tr>\n",
       "      <th>['Action', 'Crime', 'Thriller']</th>\n",
       "      <td>59.00</td>\n",
       "      <td>81,966,961.24</td>\n",
       "      <td>109,293,855.37</td>\n",
       "      <td>0.00</td>\n",
       "      <td>10,059,575.00</td>\n",
       "      <td>43,928,932.00</td>\n",
       "      <td>103,840,053.00</td>\n",
       "      <td>626,137,675.00</td>\n",
       "    </tr>\n",
       "    <tr>\n",
       "      <th>['Comedy', 'Romance']</th>\n",
       "      <td>164.00</td>\n",
       "      <td>71,670,526.95</td>\n",
       "      <td>110,721,482.78</td>\n",
       "      <td>0.00</td>\n",
       "      <td>0.00</td>\n",
       "      <td>17,206,130.50</td>\n",
       "      <td>97,844,627.50</td>\n",
       "      <td>609,841,637.00</td>\n",
       "    </tr>\n",
       "    <tr>\n",
       "      <th>['Comedy']</th>\n",
       "      <td>282.00</td>\n",
       "      <td>57,070,029.12</td>\n",
       "      <td>72,614,495.22</td>\n",
       "      <td>0.00</td>\n",
       "      <td>0.00</td>\n",
       "      <td>27,850,000.00</td>\n",
       "      <td>90,543,123.25</td>\n",
       "      <td>459,270,619.00</td>\n",
       "    </tr>\n",
       "    <tr>\n",
       "      <th>['Crime', 'Drama', 'Thriller']</th>\n",
       "      <td>92.00</td>\n",
       "      <td>54,701,696.18</td>\n",
       "      <td>70,082,708.95</td>\n",
       "      <td>0.00</td>\n",
       "      <td>0.00</td>\n",
       "      <td>28,210,141.50</td>\n",
       "      <td>73,799,471.50</td>\n",
       "      <td>289,847,354.00</td>\n",
       "    </tr>\n",
       "    <tr>\n",
       "      <th>['Comedy', 'Drama', 'Romance']</th>\n",
       "      <td>182.00</td>\n",
       "      <td>49,249,638.64</td>\n",
       "      <td>93,221,071.19</td>\n",
       "      <td>0.00</td>\n",
       "      <td>0.00</td>\n",
       "      <td>10,256,658.00</td>\n",
       "      <td>50,340,366.75</td>\n",
       "      <td>677,945,399.00</td>\n",
       "    </tr>\n",
       "    <tr>\n",
       "      <th>['Crime', 'Drama']</th>\n",
       "      <td>59.00</td>\n",
       "      <td>40,731,113.83</td>\n",
       "      <td>72,324,222.07</td>\n",
       "      <td>0.00</td>\n",
       "      <td>1,665.00</td>\n",
       "      <td>11,540,607.00</td>\n",
       "      <td>45,342,231.50</td>\n",
       "      <td>352,114,312.00</td>\n",
       "    </tr>\n",
       "    <tr>\n",
       "      <th>['Horror']</th>\n",
       "      <td>64.00</td>\n",
       "      <td>39,993,988.77</td>\n",
       "      <td>64,783,705.21</td>\n",
       "      <td>0.00</td>\n",
       "      <td>0.00</td>\n",
       "      <td>11,012,936.00</td>\n",
       "      <td>50,751,803.50</td>\n",
       "      <td>320,170,008.00</td>\n",
       "    </tr>\n",
       "    <tr>\n",
       "      <th>['Drama', 'Romance']</th>\n",
       "      <td>185.00</td>\n",
       "      <td>35,504,186.59</td>\n",
       "      <td>65,188,842.28</td>\n",
       "      <td>0.00</td>\n",
       "      <td>0.00</td>\n",
       "      <td>4,607,608.00</td>\n",
       "      <td>36,133,014.00</td>\n",
       "      <td>377,910,544.00</td>\n",
       "    </tr>\n",
       "    <tr>\n",
       "      <th>['Drama']</th>\n",
       "      <td>370.00</td>\n",
       "      <td>34,272,752.48</td>\n",
       "      <td>70,663,234.33</td>\n",
       "      <td>0.00</td>\n",
       "      <td>0.00</td>\n",
       "      <td>2,607,304.50</td>\n",
       "      <td>36,901,685.75</td>\n",
       "      <td>611,899,420.00</td>\n",
       "    </tr>\n",
       "    <tr>\n",
       "      <th>['Horror', 'Thriller']</th>\n",
       "      <td>104.00</td>\n",
       "      <td>34,187,581.38</td>\n",
       "      <td>47,893,973.46</td>\n",
       "      <td>0.00</td>\n",
       "      <td>0.00</td>\n",
       "      <td>17,940,843.00</td>\n",
       "      <td>53,640,430.25</td>\n",
       "      <td>318,000,141.00</td>\n",
       "    </tr>\n",
       "    <tr>\n",
       "      <th>['Drama', 'Thriller']</th>\n",
       "      <td>77.00</td>\n",
       "      <td>27,158,610.92</td>\n",
       "      <td>55,039,263.88</td>\n",
       "      <td>0.00</td>\n",
       "      <td>0.00</td>\n",
       "      <td>3,538,446.00</td>\n",
       "      <td>27,462,041.00</td>\n",
       "      <td>327,803,731.00</td>\n",
       "    </tr>\n",
       "    <tr>\n",
       "      <th>['Comedy', 'Drama']</th>\n",
       "      <td>188.00</td>\n",
       "      <td>27,039,811.82</td>\n",
       "      <td>52,769,901.57</td>\n",
       "      <td>0.00</td>\n",
       "      <td>0.00</td>\n",
       "      <td>1,355,237.50</td>\n",
       "      <td>24,953,704.50</td>\n",
       "      <td>264,118,201.00</td>\n",
       "    </tr>\n",
       "    <tr>\n",
       "      <th>['Documentary']</th>\n",
       "      <td>68.00</td>\n",
       "      <td>5,402,522.76</td>\n",
       "      <td>16,755,265.95</td>\n",
       "      <td>0.00</td>\n",
       "      <td>0.00</td>\n",
       "      <td>0.00</td>\n",
       "      <td>1,493,435.75</td>\n",
       "      <td>119,114,517.00</td>\n",
       "    </tr>\n",
       "  </tbody>\n",
       "</table>\n",
       "</div>"
      ],
      "text/plain": [
       "                                            count           mean  \\\n",
       "genres                                                             \n",
       "['Action', 'Adventure', 'Science Fiction']  53.00 483,316,452.96   \n",
       "['Action', 'Adventure', 'Thriller']         51.00 223,083,424.00   \n",
       "['Action', 'Crime', 'Drama', 'Thriller']    51.00  85,372,167.24   \n",
       "['Action', 'Crime', 'Thriller']             59.00  81,966,961.24   \n",
       "['Comedy', 'Romance']                      164.00  71,670,526.95   \n",
       "['Comedy']                                 282.00  57,070,029.12   \n",
       "['Crime', 'Drama', 'Thriller']              92.00  54,701,696.18   \n",
       "['Comedy', 'Drama', 'Romance']             182.00  49,249,638.64   \n",
       "['Crime', 'Drama']                          59.00  40,731,113.83   \n",
       "['Horror']                                  64.00  39,993,988.77   \n",
       "['Drama', 'Romance']                       185.00  35,504,186.59   \n",
       "['Drama']                                  370.00  34,272,752.48   \n",
       "['Horror', 'Thriller']                     104.00  34,187,581.38   \n",
       "['Drama', 'Thriller']                       77.00  27,158,610.92   \n",
       "['Comedy', 'Drama']                        188.00  27,039,811.82   \n",
       "['Documentary']                             68.00   5,402,522.76   \n",
       "\n",
       "                                                      std  min            25%  \\\n",
       "genres                                                                          \n",
       "['Action', 'Adventure', 'Science Fiction'] 392,325,264.79 0.00 167,977,596.00   \n",
       "['Action', 'Adventure', 'Thriller']        211,938,665.57 0.00  89,773,246.50   \n",
       "['Action', 'Crime', 'Drama', 'Thriller']   203,286,259.35 0.00   4,621,311.50   \n",
       "['Action', 'Crime', 'Thriller']            109,293,855.37 0.00  10,059,575.00   \n",
       "['Comedy', 'Romance']                      110,721,482.78 0.00           0.00   \n",
       "['Comedy']                                  72,614,495.22 0.00           0.00   \n",
       "['Crime', 'Drama', 'Thriller']              70,082,708.95 0.00           0.00   \n",
       "['Comedy', 'Drama', 'Romance']              93,221,071.19 0.00           0.00   \n",
       "['Crime', 'Drama']                          72,324,222.07 0.00       1,665.00   \n",
       "['Horror']                                  64,783,705.21 0.00           0.00   \n",
       "['Drama', 'Romance']                        65,188,842.28 0.00           0.00   \n",
       "['Drama']                                   70,663,234.33 0.00           0.00   \n",
       "['Horror', 'Thriller']                      47,893,973.46 0.00           0.00   \n",
       "['Drama', 'Thriller']                       55,039,263.88 0.00           0.00   \n",
       "['Comedy', 'Drama']                         52,769,901.57 0.00           0.00   \n",
       "['Documentary']                             16,755,265.95 0.00           0.00   \n",
       "\n",
       "                                                      50%            75%  \\\n",
       "genres                                                                     \n",
       "['Action', 'Adventure', 'Science Fiction'] 389,681,935.00 769,653,595.00   \n",
       "['Action', 'Adventure', 'Thriller']        161,777,836.00 295,010,902.50   \n",
       "['Action', 'Crime', 'Drama', 'Thriller']    19,412,993.00  75,614,695.50   \n",
       "['Action', 'Crime', 'Thriller']             43,928,932.00 103,840,053.00   \n",
       "['Comedy', 'Romance']                       17,206,130.50  97,844,627.50   \n",
       "['Comedy']                                  27,850,000.00  90,543,123.25   \n",
       "['Crime', 'Drama', 'Thriller']              28,210,141.50  73,799,471.50   \n",
       "['Comedy', 'Drama', 'Romance']              10,256,658.00  50,340,366.75   \n",
       "['Crime', 'Drama']                          11,540,607.00  45,342,231.50   \n",
       "['Horror']                                  11,012,936.00  50,751,803.50   \n",
       "['Drama', 'Romance']                         4,607,608.00  36,133,014.00   \n",
       "['Drama']                                    2,607,304.50  36,901,685.75   \n",
       "['Horror', 'Thriller']                      17,940,843.00  53,640,430.25   \n",
       "['Drama', 'Thriller']                        3,538,446.00  27,462,041.00   \n",
       "['Comedy', 'Drama']                          1,355,237.50  24,953,704.50   \n",
       "['Documentary']                                      0.00   1,493,435.75   \n",
       "\n",
       "                                                        max  \n",
       "genres                                                       \n",
       "['Action', 'Adventure', 'Science Fiction'] 1,519,557,910.00  \n",
       "['Action', 'Adventure', 'Thriller']        1,108,561,013.00  \n",
       "['Action', 'Crime', 'Drama', 'Thriller']   1,084,939,099.00  \n",
       "['Action', 'Crime', 'Thriller']              626,137,675.00  \n",
       "['Comedy', 'Romance']                        609,841,637.00  \n",
       "['Comedy']                                   459,270,619.00  \n",
       "['Crime', 'Drama', 'Thriller']               289,847,354.00  \n",
       "['Comedy', 'Drama', 'Romance']               677,945,399.00  \n",
       "['Crime', 'Drama']                           352,114,312.00  \n",
       "['Horror']                                   320,170,008.00  \n",
       "['Drama', 'Romance']                         377,910,544.00  \n",
       "['Drama']                                    611,899,420.00  \n",
       "['Horror', 'Thriller']                       318,000,141.00  \n",
       "['Drama', 'Thriller']                        327,803,731.00  \n",
       "['Comedy', 'Drama']                          264,118,201.00  \n",
       "['Documentary']                              119,114,517.00  "
      ]
     },
     "execution_count": 72,
     "metadata": {},
     "output_type": "execute_result"
    }
   ],
   "source": [
    "# Thống kê mô tả 'revenue' theo nhóm thể loại\n",
    "data_genstr_grouped.revenue.describe().sort_values('mean', ascending = False)"
   ]
  },
  {
   "cell_type": "code",
   "execution_count": null,
   "metadata": {},
   "outputs": [],
   "source": [
    "Thống kê mô tả 'revenue' theo nhóm thể loại:\n",
    "- Nhóm thể loại có nhiều phim nhất là ['Drama'] và ít phim nhất là ['Action', 'Crime', 'Drama', 'Thriller']\n",
    "- Nhóm thể loại có doanh thu TB cao nhất là ['Action', 'Adventure', 'Science Fiction'] và thấp nhất là\n",
    "['Documentary']\n",
    "- Nhóm thể loại có độ lệch chuẩn cao nhất là ['Action', 'Adventure', 'Science Fiction'] và thấp nhất là\n",
    "['Documentary']"
   ]
  },
  {
   "cell_type": "code",
   "execution_count": 73,
   "metadata": {},
   "outputs": [
    {
     "data": {
      "text/html": [
       "<div>\n",
       "<style scoped>\n",
       "    .dataframe tbody tr th:only-of-type {\n",
       "        vertical-align: middle;\n",
       "    }\n",
       "\n",
       "    .dataframe tbody tr th {\n",
       "        vertical-align: top;\n",
       "    }\n",
       "\n",
       "    .dataframe thead th {\n",
       "        text-align: right;\n",
       "    }\n",
       "</style>\n",
       "<table border=\"1\" class=\"dataframe\">\n",
       "  <thead>\n",
       "    <tr style=\"text-align: right;\">\n",
       "      <th></th>\n",
       "      <th>count</th>\n",
       "      <th>mean</th>\n",
       "      <th>std</th>\n",
       "      <th>min</th>\n",
       "      <th>25%</th>\n",
       "      <th>50%</th>\n",
       "      <th>75%</th>\n",
       "      <th>max</th>\n",
       "    </tr>\n",
       "    <tr>\n",
       "      <th>genres</th>\n",
       "      <th></th>\n",
       "      <th></th>\n",
       "      <th></th>\n",
       "      <th></th>\n",
       "      <th></th>\n",
       "      <th></th>\n",
       "      <th></th>\n",
       "      <th></th>\n",
       "    </tr>\n",
       "  </thead>\n",
       "  <tbody>\n",
       "    <tr>\n",
       "      <th>['Crime', 'Drama']</th>\n",
       "      <td>59.00</td>\n",
       "      <td>6.65</td>\n",
       "      <td>1.81</td>\n",
       "      <td>0.00</td>\n",
       "      <td>6.60</td>\n",
       "      <td>6.90</td>\n",
       "      <td>7.60</td>\n",
       "      <td>8.50</td>\n",
       "    </tr>\n",
       "    <tr>\n",
       "      <th>['Drama', 'Romance']</th>\n",
       "      <td>185.00</td>\n",
       "      <td>6.63</td>\n",
       "      <td>0.78</td>\n",
       "      <td>3.40</td>\n",
       "      <td>6.20</td>\n",
       "      <td>6.70</td>\n",
       "      <td>7.20</td>\n",
       "      <td>8.00</td>\n",
       "    </tr>\n",
       "    <tr>\n",
       "      <th>['Drama']</th>\n",
       "      <td>370.00</td>\n",
       "      <td>6.44</td>\n",
       "      <td>1.30</td>\n",
       "      <td>0.00</td>\n",
       "      <td>6.10</td>\n",
       "      <td>6.70</td>\n",
       "      <td>7.18</td>\n",
       "      <td>8.30</td>\n",
       "    </tr>\n",
       "    <tr>\n",
       "      <th>['Crime', 'Drama', 'Thriller']</th>\n",
       "      <td>92.00</td>\n",
       "      <td>6.42</td>\n",
       "      <td>1.02</td>\n",
       "      <td>0.00</td>\n",
       "      <td>6.00</td>\n",
       "      <td>6.50</td>\n",
       "      <td>7.00</td>\n",
       "      <td>8.10</td>\n",
       "    </tr>\n",
       "    <tr>\n",
       "      <th>['Comedy', 'Drama']</th>\n",
       "      <td>188.00</td>\n",
       "      <td>6.32</td>\n",
       "      <td>1.09</td>\n",
       "      <td>0.00</td>\n",
       "      <td>6.00</td>\n",
       "      <td>6.40</td>\n",
       "      <td>7.00</td>\n",
       "      <td>8.50</td>\n",
       "    </tr>\n",
       "    <tr>\n",
       "      <th>['Action', 'Adventure', 'Science Fiction']</th>\n",
       "      <td>53.00</td>\n",
       "      <td>6.32</td>\n",
       "      <td>1.12</td>\n",
       "      <td>3.10</td>\n",
       "      <td>5.80</td>\n",
       "      <td>6.60</td>\n",
       "      <td>7.10</td>\n",
       "      <td>8.20</td>\n",
       "    </tr>\n",
       "    <tr>\n",
       "      <th>['Action', 'Crime', 'Drama', 'Thriller']</th>\n",
       "      <td>51.00</td>\n",
       "      <td>6.28</td>\n",
       "      <td>0.75</td>\n",
       "      <td>4.50</td>\n",
       "      <td>5.95</td>\n",
       "      <td>6.10</td>\n",
       "      <td>6.70</td>\n",
       "      <td>8.20</td>\n",
       "    </tr>\n",
       "    <tr>\n",
       "      <th>['Comedy', 'Drama', 'Romance']</th>\n",
       "      <td>182.00</td>\n",
       "      <td>6.23</td>\n",
       "      <td>0.90</td>\n",
       "      <td>0.00</td>\n",
       "      <td>5.80</td>\n",
       "      <td>6.20</td>\n",
       "      <td>6.70</td>\n",
       "      <td>10.00</td>\n",
       "    </tr>\n",
       "    <tr>\n",
       "      <th>['Action', 'Crime', 'Thriller']</th>\n",
       "      <td>59.00</td>\n",
       "      <td>6.14</td>\n",
       "      <td>0.73</td>\n",
       "      <td>4.10</td>\n",
       "      <td>5.80</td>\n",
       "      <td>6.20</td>\n",
       "      <td>6.60</td>\n",
       "      <td>7.60</td>\n",
       "    </tr>\n",
       "    <tr>\n",
       "      <th>['Action', 'Adventure', 'Thriller']</th>\n",
       "      <td>51.00</td>\n",
       "      <td>6.13</td>\n",
       "      <td>0.75</td>\n",
       "      <td>4.10</td>\n",
       "      <td>5.85</td>\n",
       "      <td>6.20</td>\n",
       "      <td>6.55</td>\n",
       "      <td>7.40</td>\n",
       "    </tr>\n",
       "    <tr>\n",
       "      <th>['Drama', 'Thriller']</th>\n",
       "      <td>77.00</td>\n",
       "      <td>6.09</td>\n",
       "      <td>1.08</td>\n",
       "      <td>0.00</td>\n",
       "      <td>5.50</td>\n",
       "      <td>6.10</td>\n",
       "      <td>6.70</td>\n",
       "      <td>8.10</td>\n",
       "    </tr>\n",
       "    <tr>\n",
       "      <th>['Documentary']</th>\n",
       "      <td>68.00</td>\n",
       "      <td>5.99</td>\n",
       "      <td>2.27</td>\n",
       "      <td>0.00</td>\n",
       "      <td>5.65</td>\n",
       "      <td>6.80</td>\n",
       "      <td>7.30</td>\n",
       "      <td>8.30</td>\n",
       "    </tr>\n",
       "    <tr>\n",
       "      <th>['Comedy', 'Romance']</th>\n",
       "      <td>164.00</td>\n",
       "      <td>5.70</td>\n",
       "      <td>0.92</td>\n",
       "      <td>2.30</td>\n",
       "      <td>5.30</td>\n",
       "      <td>5.80</td>\n",
       "      <td>6.30</td>\n",
       "      <td>8.00</td>\n",
       "    </tr>\n",
       "    <tr>\n",
       "      <th>['Comedy']</th>\n",
       "      <td>282.00</td>\n",
       "      <td>5.67</td>\n",
       "      <td>1.04</td>\n",
       "      <td>0.00</td>\n",
       "      <td>5.20</td>\n",
       "      <td>5.80</td>\n",
       "      <td>6.30</td>\n",
       "      <td>10.00</td>\n",
       "    </tr>\n",
       "    <tr>\n",
       "      <th>['Horror', 'Thriller']</th>\n",
       "      <td>104.00</td>\n",
       "      <td>5.42</td>\n",
       "      <td>1.00</td>\n",
       "      <td>0.00</td>\n",
       "      <td>4.90</td>\n",
       "      <td>5.35</td>\n",
       "      <td>6.10</td>\n",
       "      <td>8.10</td>\n",
       "    </tr>\n",
       "    <tr>\n",
       "      <th>['Horror']</th>\n",
       "      <td>64.00</td>\n",
       "      <td>5.21</td>\n",
       "      <td>1.65</td>\n",
       "      <td>0.00</td>\n",
       "      <td>4.57</td>\n",
       "      <td>5.60</td>\n",
       "      <td>6.08</td>\n",
       "      <td>7.50</td>\n",
       "    </tr>\n",
       "  </tbody>\n",
       "</table>\n",
       "</div>"
      ],
      "text/plain": [
       "                                            count  mean  std  min  25%  50%  \\\n",
       "genres                                                                        \n",
       "['Crime', 'Drama']                          59.00  6.65 1.81 0.00 6.60 6.90   \n",
       "['Drama', 'Romance']                       185.00  6.63 0.78 3.40 6.20 6.70   \n",
       "['Drama']                                  370.00  6.44 1.30 0.00 6.10 6.70   \n",
       "['Crime', 'Drama', 'Thriller']              92.00  6.42 1.02 0.00 6.00 6.50   \n",
       "['Comedy', 'Drama']                        188.00  6.32 1.09 0.00 6.00 6.40   \n",
       "['Action', 'Adventure', 'Science Fiction']  53.00  6.32 1.12 3.10 5.80 6.60   \n",
       "['Action', 'Crime', 'Drama', 'Thriller']    51.00  6.28 0.75 4.50 5.95 6.10   \n",
       "['Comedy', 'Drama', 'Romance']             182.00  6.23 0.90 0.00 5.80 6.20   \n",
       "['Action', 'Crime', 'Thriller']             59.00  6.14 0.73 4.10 5.80 6.20   \n",
       "['Action', 'Adventure', 'Thriller']         51.00  6.13 0.75 4.10 5.85 6.20   \n",
       "['Drama', 'Thriller']                       77.00  6.09 1.08 0.00 5.50 6.10   \n",
       "['Documentary']                             68.00  5.99 2.27 0.00 5.65 6.80   \n",
       "['Comedy', 'Romance']                      164.00  5.70 0.92 2.30 5.30 5.80   \n",
       "['Comedy']                                 282.00  5.67 1.04 0.00 5.20 5.80   \n",
       "['Horror', 'Thriller']                     104.00  5.42 1.00 0.00 4.90 5.35   \n",
       "['Horror']                                  64.00  5.21 1.65 0.00 4.57 5.60   \n",
       "\n",
       "                                            75%   max  \n",
       "genres                                                 \n",
       "['Crime', 'Drama']                         7.60  8.50  \n",
       "['Drama', 'Romance']                       7.20  8.00  \n",
       "['Drama']                                  7.18  8.30  \n",
       "['Crime', 'Drama', 'Thriller']             7.00  8.10  \n",
       "['Comedy', 'Drama']                        7.00  8.50  \n",
       "['Action', 'Adventure', 'Science Fiction'] 7.10  8.20  \n",
       "['Action', 'Crime', 'Drama', 'Thriller']   6.70  8.20  \n",
       "['Comedy', 'Drama', 'Romance']             6.70 10.00  \n",
       "['Action', 'Crime', 'Thriller']            6.60  7.60  \n",
       "['Action', 'Adventure', 'Thriller']        6.55  7.40  \n",
       "['Drama', 'Thriller']                      6.70  8.10  \n",
       "['Documentary']                            7.30  8.30  \n",
       "['Comedy', 'Romance']                      6.30  8.00  \n",
       "['Comedy']                                 6.30 10.00  \n",
       "['Horror', 'Thriller']                     6.10  8.10  \n",
       "['Horror']                                 6.08  7.50  "
      ]
     },
     "execution_count": 73,
     "metadata": {},
     "output_type": "execute_result"
    }
   ],
   "source": [
    "# Thống kê mô tả 'vote_average' theo nhóm thể loại\n",
    "data_genstr_grouped.vote_average.describe().sort_values('mean', ascending = False)"
   ]
  },
  {
   "cell_type": "code",
   "execution_count": null,
   "metadata": {},
   "outputs": [],
   "source": [
    "Thống kê mô tả 'vote_average' theo nhóm thể loại:\n",
    "- Nhóm thể loại có điểm số TB cao nhất là ['Crime', 'Drama'] và thấp nhất là ['Horror']\n",
    "- Nhóm thể loại có độ lệch chuẩn cao nhất là ['Documentary'] và thấp nhất là ['Action', 'Crime', 'Thriller']"
   ]
  },
  {
   "cell_type": "code",
   "execution_count": 74,
   "metadata": {},
   "outputs": [
    {
     "data": {
      "text/plain": [
       "<matplotlib.axes._subplots.AxesSubplot at 0x1b0efd818d0>"
      ]
     },
     "execution_count": 74,
     "metadata": {},
     "output_type": "execute_result"
    },
    {
     "data": {
      "image/png": "[encoded data removed]",
      "text/plain": [
       "<Figure size 1800x720 with 1 Axes>"
      ]
     },
     "metadata": {
      "needs_background": "light"
     },
     "output_type": "display_data"
    }
   ],
   "source": [
    "# đồ thị boxplot 'revenue' theo thể loại\n",
    "data_3.boxplot('revenue', by = 'genres', figsize = (25,10))"
   ]
  },
  {
   "cell_type": "code",
   "execution_count": 75,
   "metadata": {},
   "outputs": [
    {
     "data": {
      "text/plain": [
       "<matplotlib.axes._subplots.AxesSubplot at 0x1b0efca2a90>"
      ]
     },
     "execution_count": 75,
     "metadata": {},
     "output_type": "execute_result"
    },
    {
     "data": {
      "image/png": "[encoded data removed]",
      "text/plain": [
       "<Figure size 1800x720 with 1 Axes>"
      ]
     },
     "metadata": {
      "needs_background": "light"
     },
     "output_type": "display_data"
    }
   ],
   "source": [
    "# đồ thị boxplot 'vote_average' theo thể loại\n",
    "data_3.boxplot('vote_average', by = 'genres', figsize = (25,10))"
   ]
  },
  {
   "cell_type": "code",
   "execution_count": 76,
   "metadata": {},
   "outputs": [
    {
     "data": {
      "text/plain": [
       "<matplotlib.axes._subplots.AxesSubplot at 0x1b0efd96860>"
      ]
     },
     "execution_count": 76,
     "metadata": {},
     "output_type": "execute_result"
    },
    {
     "data": {
      "image/png": "[encoded data removed]",
      "text/plain": [
       "<Figure size 1800x720 with 1 Axes>"
      ]
     },
     "metadata": {
      "needs_background": "light"
     },
     "output_type": "display_data"
    }
   ],
   "source": [
    "# đồ thị boxplot 'revenue' theo nhóm thể loại\n",
    "data_genstr.boxplot('revenue', by = 'genres', figsize = (25,10))"
   ]
  },
  {
   "cell_type": "code",
   "execution_count": 77,
   "metadata": {},
   "outputs": [
    {
     "data": {
      "text/plain": [
       "<matplotlib.axes._subplots.AxesSubplot at 0x1b0fa52f978>"
      ]
     },
     "execution_count": 77,
     "metadata": {},
     "output_type": "execute_result"
    },
    {
     "data": {
      "image/png": "[encoded data removed]",
      "text/plain": [
       "<Figure size 1800x720 with 1 Axes>"
      ]
     },
     "metadata": {
      "needs_background": "light"
     },
     "output_type": "display_data"
    }
   ],
   "source": [
    "# đồ thị boxplot 'vote_average' theo nhóm thể loại\n",
    "data_genstr.boxplot('vote_average', by = 'genres', figsize = (25,10))"
   ]
  },
  {
   "cell_type": "code",
   "execution_count": null,
   "metadata": {},
   "outputs": [],
   "source": [
    "3. Kiểm định ANOVA"
   ]
  },
  {
   "cell_type": "code",
   "execution_count": 78,
   "metadata": {},
   "outputs": [
    {
     "name": "stdout",
     "output_type": "stream",
     "text": [
      "F statistic: 73.834190\n",
      "p_value: 0.000000\n"
     ]
    }
   ],
   "source": [
    "# Kiểm định ANOVA cho 'revenue' theo thể loại phim\n",
    "data_ANOVA = ANOVA_parsing(*data_3_grouped.revenue)\n",
    "stat, p_value = stats.f_oneway(*data_ANOVA)\n",
    "print('F statistic: %f' %stat)\n",
    "print('p_value: %f' %p_value)"
   ]
  },
  {
   "cell_type": "code",
   "execution_count": null,
   "metadata": {},
   "outputs": [],
   "source": [
    "- Với mức ý nghĩa 5% và p_value = 0,00, ta bác bỏ giả thuyết Ho về doanh thu trung bình các thể loại\n",
    "bằng nhau\n",
    "- Thống kê mô tả cho thấy các phim thuộc thể loại Animation, Advanture, Fantasy, Family, Science\n",
    "Fiction và Action có doanh thu TB cao hơn các thể loại phim còn lại. Đây là các thể loại phim phù hợp\n",
    "với nhiều đối tượng khán giả. Ta đặt giả thuyết phim thuộc các thể loại này (high_group) có doanh thu\n",
    "cao hơn phim thuộc các thể loại khác (low_group).\n",
    "- Ta thực hiện kiểm định Mann-Whitney với hai nhóm này để kiểm định giả thuyết trên"
   ]
  },
  {
   "cell_type": "code",
   "execution_count": 79,
   "metadata": {},
   "outputs": [
    {
     "name": "stdout",
     "output_type": "stream",
     "text": [
      "F statistic: 9955843.000000\n",
      "p_value: 0.000000\n"
     ]
    }
   ],
   "source": [
    "# kiểm định Mann-Whitney cho nhóm Animation, Advanture,..., Action và các thể loại còn lại\n",
    "high_group = data_3[data_3['genres'].isin(['Animation', 'Advanture', 'Fantasy', 'Family', 'Science Fiction', 'Action'])].revenue\n",
    "low_group = data_3[~(data_3['genres'].isin(['Animation', 'Advanture', 'Fantasy', 'Family', 'Science Fiction', 'Action']))].revenue\n",
    "stat, p_value = stats.mannwhitneyu(high_group, low_group)\n",
    "print('F statistic: %f' %stat)\n",
    "print('p_value: %f' %p_value)"
   ]
  },
  {
   "cell_type": "code",
   "execution_count": null,
   "metadata": {},
   "outputs": [],
   "source": [
    "- Với mức ý nghĩa 5% và p_value = 0,00, ta bác bỏ giả thuyết Ho về doanh thu trung bình các thể loại\n",
    "bằng nhau\n",
    "- Các phim thuộc nhóm Animation, Advanture, Fantasy, Family, Science Fiction và Action có doanh thu cao\n",
    "hơn các phim thuộc thể loại còn lại."
   ]
  },
  {
   "cell_type": "code",
   "execution_count": 80,
   "metadata": {},
   "outputs": [
    {
     "name": "stdout",
     "output_type": "stream",
     "text": [
      "F statistic: 71.185115\n",
      "p_value: 0.000000\n"
     ]
    }
   ],
   "source": [
    "# Kiểm định ANOVA cho 'revenue' theo nhóm thể loại phim\n",
    "data_ANOVA = ANOVA_parsing(*data_genstr_grouped.revenue)\n",
    "stat, p_value = stats.f_oneway(*data_ANOVA)\n",
    "print('F statistic: %f' %stat)\n",
    "print('p_value: %f' %p_value)"
   ]
  },
  {
   "cell_type": "code",
   "execution_count": null,
   "metadata": {},
   "outputs": [],
   "source": [
    "- Với mức ý nghĩa 5% và p_value = 0,00, ta bác bỏ giả thuyết Ho về doanh thu trung bình các thể loại\n",
    "bằng nhau\n",
    "- Thống kê mô tả cho thấy các phim thuộc thể loại ['Action', 'Adventure', 'Science Fiction'] có doanh\n",
    "thu TB vượt trội, kế đến là nhóm ['Action', 'Adventure', 'Thriller'] đứng thứ hai và các phim thuộc các\n",
    "nhóm thể loại còn lại có doanh thu TB nhỏ hơn.\n",
    "- Ta đặt giả thuyết phim thuộc thể loại ['Action', 'Adventure', 'Science Fiction'] có doanh thu cao hơn\n",
    "phim thuộc thể loại ['Action', 'Adventure', 'Thriller']\n",
    "- Ta đặt giả thuyết phim thuộc thể loại ['Action', 'Adventure', 'Thriller'] có doanh thu cao hơn các\n",
    "thể loại phim còn lại\n",
    "- Ta thực hiện kiểm định Mann-Whitney với hai giả thuyết trên."
   ]
  },
  {
   "cell_type": "code",
   "execution_count": 81,
   "metadata": {},
   "outputs": [
    {
     "name": "stdout",
     "output_type": "stream",
     "text": [
      "F statistic: 810.000000\n",
      "p_value: 0.000217\n"
     ]
    }
   ],
   "source": [
    "# kiểm định Mann-Whitney với nhóm ['Action', 'Adventure', 'Science Fiction'] và ['Action', 'Adventure', 'Thriller']\n",
    "high_group = data_genstr[data_genstr['genres'] == \"['Action', 'Adventure', 'Science Fiction']\"].revenue\n",
    "mid_group = data_genstr[data_genstr['genres'] == \"['Action', 'Adventure', 'Thriller']\"].revenue\n",
    "stat, p_value = stats.mannwhitneyu(high_group, mid_group)\n",
    "print('F statistic: %f' %stat)\n",
    "print('p_value: %f' %p_value)"
   ]
  },
  {
   "cell_type": "code",
   "execution_count": null,
   "metadata": {},
   "outputs": [],
   "source": [
    "- Với mức ý nghĩa 5% và p_value = 0,0002, ta bác bỏ giả thuyết Ho về doanh thu trung bình các thể loại\n",
    "bằng nhau.\n",
    "- Ta chấp nhận giả thuyết phim thuộc thể loại ['Action', 'Adventure', 'Science Fiction'] có doanh thu\n",
    "cao hơn phim thuộc thể loại ['Action', 'Adventure', 'Thriller']"
   ]
  },
  {
   "cell_type": "code",
   "execution_count": 82,
   "metadata": {},
   "outputs": [
    {
     "name": "stdout",
     "output_type": "stream",
     "text": [
      "F statistic: 17342.500000\n",
      "p_value: 0.000000\n"
     ]
    }
   ],
   "source": [
    "# kiểm định Mann-Whitney giữa nhóm ['Action', 'Adventure', 'Thriller'] và các nhóm thể loại còn lại\n",
    "low_group = data_genstr[~((data_genstr['genres'] == \"['Action', 'Adventure', 'Science Fiction']\") & (data_genstr['genres'] == \"['Action', 'Adventure', 'Thriller']\"))].revenue\n",
    "stat, p_value = stats.mannwhitneyu(mid_group, low_group)\n",
    "print('F statistic: %f' %stat)\n",
    "print('p_value: %f' %p_value)"
   ]
  },
  {
   "cell_type": "code",
   "execution_count": null,
   "metadata": {},
   "outputs": [],
   "source": [
    "- Với mức ý nghĩa 5% và p_value = 0,0002, ta bác bỏ giả thuyết Ho về doanh thu trung bình các thể loại\n",
    "bằng nhau.\n",
    "- Ta chấp nhận giả thuyết phim thuộc thể loại ['Action', 'Adventure', 'Thriller'] có doanh thu cao hơn\n",
    "phim thuộc các nhóm thể loại còn lại."
   ]
  },
  {
   "cell_type": "code",
   "execution_count": 83,
   "metadata": {},
   "outputs": [
    {
     "name": "stdout",
     "output_type": "stream",
     "text": [
      "F statistic: 32.664813\n",
      "p_value: 0.000000\n"
     ]
    }
   ],
   "source": [
    "# Kiểm định ANOVA cho nhóm 'vote_average' theo thể loại phim\n",
    "data_ANOVA = ANOVA_parsing(*data_3_grouped.vote_average)\n",
    "stat, p_value = stats.f_oneway(*data_ANOVA)\n",
    "print('F statistic: %f' %stat)\n",
    "print('p_value: %f' %p_value)"
   ]
  },
  {
   "cell_type": "code",
   "execution_count": null,
   "metadata": {},
   "outputs": [],
   "source": [
    "- Với mức ý nghĩa 5% và p_value = 0,0002, ta bác bỏ giả thuyết Ho về điểm số trung bình các thể loại\n",
    "bằng nhau.\n",
    "- Mô tả thống kê cho thấy các phim thuộc thể loại History và War có điểm số trung bình cao hơn các phim\n",
    "thuộc các thể loại còn lại\n",
    "- Ta thực hiện kiểm định Mann-Whitney với giả thuyết trên."
   ]
  },
  {
   "cell_type": "code",
   "execution_count": 84,
   "metadata": {},
   "outputs": [
    {
     "name": "stdout",
     "output_type": "stream",
     "text": [
      "F statistic: 1253262.500000\n",
      "p_value: 0.000000\n"
     ]
    }
   ],
   "source": [
    "# kiểm định Mann-Whitney giữa nhóm History, War và các thể loại còn lại\n",
    "high_group = data_3[data_3['genres'].isin(['History', 'War'])].vote_average\n",
    "low_group = data_3[~(data_3['genres'].isin(['History', 'War']))].vote_average\n",
    "stat, p_value = stats.mannwhitneyu(high_group, low_group)\n",
    "print('F statistic: %f' %stat)\n",
    "print('p_value: %f' %p_value)"
   ]
  },
  {
   "cell_type": "code",
   "execution_count": null,
   "metadata": {},
   "outputs": [],
   "source": [
    "- Với mức ý nghĩa 5% và p_value = 0,00, ta bác bỏ giả thuyết Ho về điểm số trung bình các thể loại\n",
    "bằng nhau. "
   ]
  },
  {
   "cell_type": "code",
   "execution_count": 85,
   "metadata": {},
   "outputs": [
    {
     "name": "stdout",
     "output_type": "stream",
     "text": [
      "F statistic: 15.851674\n",
      "p_value: 0.000000\n"
     ]
    }
   ],
   "source": [
    "# Kiểm định ANOVA cho 'vote_average' theo nhóm thể loại phim\n",
    "data_ANOVA = ANOVA_parsing(*data_genstr_grouped.vote_average)\n",
    "stat, p_value = stats.f_oneway(*data_ANOVA)\n",
    "print('F statistic: %f' %stat)\n",
    "print('p_value: %f' %p_value)"
   ]
  },
  {
   "cell_type": "code",
   "execution_count": null,
   "metadata": {},
   "outputs": [],
   "source": [
    "- Với mức ý nghĩa 5% và p_value = 0,00, ta bác bỏ giả thuyết Ho về điểm số trung bình các thể loại\n",
    "bằng nhau.\n",
    "- Mô tả thống kê cho thấy các phim thuộc nhóm thể loại ['Crime', 'Drama'] có điểm số TB cao nhất. Ta\n",
    "thực hiện kiểm định Mann-Whitney đối với giả thuyết nhóm thể loại ['Crime', 'Drama'] có điểm số TB cao\n",
    "hơn các nhóm còn lại\n",
    "- Thể loại History và War không xuất hiện trong phân tích theo nhóm thể loại vì các nhóm thể loại có\n",
    "History và War không đủ số lượng mẫu để đưa vào phân tích."
   ]
  },
  {
   "cell_type": "code",
   "execution_count": 86,
   "metadata": {},
   "outputs": [
    {
     "name": "stdout",
     "output_type": "stream",
     "text": [
      "F statistic: 32794.000000\n",
      "p_value: 0.000000\n"
     ]
    }
   ],
   "source": [
    "# kiểm định Mann-Whitney giữa nhóm ['Crime', 'Drama'] và các thể loại còn lại\n",
    "high_group = data_genstr[data_genstr['genres'] == \"['Crime', 'Drama']\"].vote_average\n",
    "low_group = data_genstr[~(data_genstr['genres'] == \"['Crime', 'Drama']\")].vote_average\n",
    "stat, p_value = stats.mannwhitneyu(high_group, low_group)\n",
    "print('F statistic: %f' %stat)\n",
    "print('p_value: %f' %p_value)"
   ]
  },
  {
   "cell_type": "code",
   "execution_count": null,
   "metadata": {},
   "outputs": [],
   "source": [
    "- Với mức ý nghĩa 5% và p_value = 0,00, ta bác bỏ giả thuyết Ho về điểm số trung bình các thể loại\n",
    "bằng nhau."
   ]
  },
  {
   "cell_type": "code",
   "execution_count": null,
   "metadata": {},
   "outputs": [],
   "source": [
    "4. Kết luận\n",
    "- Thể loại phim có ảnh hưởng đến doanh thu trung bình của phim, cụ thể:\n",
    "    + Các phim thuộc thể loại Animation, Advanture, Fantasy, Family, Science Fiction và Action có doanh\n",
    "    thu TB cao hơn các phim thuộc thể loại còn lại.\n",
    "    + Trong đó, các phim đồng thời có các thể loại ['Action', 'Adventure', 'Science Fiction'] có doanh\n",
    "    thu TB vượt trội, kế đến là các phim có nhóm thể loại là ['Action', 'Adventure', 'Thriller'] và hai\n",
    "    nhóm này có doanh thu cao hơn các phim thuộc các nhóm thể loại còn lại.\n",
    "    \n",
    "- Thể loại phim có ảnh hưởng đến điểm số trung bình của phim, cụ thể:\n",
    "    + Các phim thuộc thể loại History và War có điểm số trung bình cao hơn các phim thuộc các thể loại\n",
    "    còn lại\n",
    "    \n",
    "- Mối tương quan giữa doanh thu và điểm số của phim là không đáng kể"
   ]
  },
  {
   "cell_type": "code",
   "execution_count": null,
   "metadata": {},
   "outputs": [],
   "source": [
    "III. Ảnh hưởng của 'release_date' đến 'revenue' (câu 3)"
   ]
  },
  {
   "cell_type": "code",
   "execution_count": null,
   "metadata": {},
   "outputs": [],
   "source": [
    "1. Xử lý dữ liệu"
   ]
  },
  {
   "cell_type": "code",
   "execution_count": 87,
   "metadata": {},
   "outputs": [],
   "source": [
    "# parse 'release_date' từ str qua datetime\n",
    "release_date = pd.to_datetime(data.release_date, format = '%Y-%m-%d')"
   ]
  },
  {
   "cell_type": "code",
   "execution_count": 88,
   "metadata": {},
   "outputs": [],
   "source": [
    "# tạo một series tháng\n",
    "month = pd.DatetimeIndex(release_date).month"
   ]
  },
  {
   "cell_type": "code",
   "execution_count": 91,
   "metadata": {},
   "outputs": [],
   "source": [
    "revenue_date = pd.DataFrame({'month':month, 'revenue':data.revenue})"
   ]
  },
  {
   "cell_type": "code",
   "execution_count": 92,
   "metadata": {},
   "outputs": [],
   "source": [
    "revenue_date.index = release_date"
   ]
  },
  {
   "cell_type": "code",
   "execution_count": 93,
   "metadata": {},
   "outputs": [
    {
     "data": {
      "text/plain": [
       "<matplotlib.axes._subplots.AxesSubplot at 0x1b0fa6f2358>"
      ]
     },
     "execution_count": 93,
     "metadata": {},
     "output_type": "execute_result"
    },
    {
     "data": {
      "image/png": "[encoded data removed]",
      "text/plain": [
       "<Figure size 1440x720 with 1 Axes>"
      ]
     },
     "metadata": {
      "needs_background": "light"
     },
     "output_type": "display_data"
    }
   ],
   "source": [
    "# đồ thị doanh thu theo thời gian\n",
    "revenue_date.revenue.plot(figsize = (20,10))"
   ]
  },
  {
   "cell_type": "code",
   "execution_count": null,
   "metadata": {},
   "outputs": [],
   "source": [
    "- Đồ thị doanh thu theo thời gian cho thấy doanh thu có xu hướng tăng dần đều qua các năm từ năm 1920 trở lại đây.\n",
    "- Từ năm 1920 đến năm 1980, có rất nhiều phim có doanh thu được ghi nhận là 0\n",
    "- Giai đoạn 2000 - 2018 doanh thu phim tăng rất nhanh so với giai đoạn 1980 - 2000\n",
    "- Chúng ta muốn đánh giá ảnh hưởng của tháng phát hành đến doanh thu nên chúng ta phải chọn một quãng thời gian có mặt bằng giá\n",
    "tương đối ổn định để loại những ảnh hưởng tăng doanh thu do mặt bằng giá thay đổi.\n",
    "- Do đó, chúng ta sẽ giới hạn phân tích ở các năm từ 2000 đến 2015 (vì dữ liệu không có đầy đủ doanh thu cho năm 2016 và 2017)\n",
    "- Ngoài ra chúng ta cũng sẽ thực hiện phân tích cho toàn bộ dữ liệu như một tham khảo"
   ]
  },
  {
   "cell_type": "code",
   "execution_count": 94,
   "metadata": {},
   "outputs": [],
   "source": [
    "# giới hạn phân tích từ năm 2000 - 2015\n",
    "revenue_date_2000 = revenue_date['2000':'2015']"
   ]
  },
  {
   "cell_type": "code",
   "execution_count": 96,
   "metadata": {},
   "outputs": [],
   "source": [
    "# group hai tập dữ liệu\n",
    "revenue_date_grouped = revenue_date.groupby('month')\n",
    "revenue_date_2000_grouped = revenue_date_2000.groupby('month')"
   ]
  },
  {
   "cell_type": "code",
   "execution_count": null,
   "metadata": {},
   "outputs": [],
   "source": [
    "2. Thống kê mô tả theo các tháng"
   ]
  },
  {
   "cell_type": "code",
   "execution_count": 97,
   "metadata": {},
   "outputs": [
    {
     "data": {
      "text/html": [
       "<div>\n",
       "<style scoped>\n",
       "    .dataframe tbody tr th:only-of-type {\n",
       "        vertical-align: middle;\n",
       "    }\n",
       "\n",
       "    .dataframe tbody tr th {\n",
       "        vertical-align: top;\n",
       "    }\n",
       "\n",
       "    .dataframe thead th {\n",
       "        text-align: right;\n",
       "    }\n",
       "</style>\n",
       "<table border=\"1\" class=\"dataframe\">\n",
       "  <thead>\n",
       "    <tr style=\"text-align: right;\">\n",
       "      <th></th>\n",
       "      <th>count</th>\n",
       "      <th>mean</th>\n",
       "      <th>std</th>\n",
       "      <th>min</th>\n",
       "      <th>25%</th>\n",
       "      <th>50%</th>\n",
       "      <th>75%</th>\n",
       "      <th>max</th>\n",
       "    </tr>\n",
       "    <tr>\n",
       "      <th>month</th>\n",
       "      <th></th>\n",
       "      <th></th>\n",
       "      <th></th>\n",
       "      <th></th>\n",
       "      <th></th>\n",
       "      <th></th>\n",
       "      <th></th>\n",
       "      <th></th>\n",
       "    </tr>\n",
       "  </thead>\n",
       "  <tbody>\n",
       "    <tr>\n",
       "      <th>6</th>\n",
       "      <td>242.00</td>\n",
       "      <td>169,454,081.99</td>\n",
       "      <td>269,320,803.55</td>\n",
       "      <td>0.00</td>\n",
       "      <td>0.00</td>\n",
       "      <td>44,824,500.00</td>\n",
       "      <td>214,979,312.50</td>\n",
       "      <td>1,513,528,810.00</td>\n",
       "    </tr>\n",
       "    <tr>\n",
       "      <th>5</th>\n",
       "      <td>243.00</td>\n",
       "      <td>142,403,729.28</td>\n",
       "      <td>237,954,830.01</td>\n",
       "      <td>0.00</td>\n",
       "      <td>0.00</td>\n",
       "      <td>21,148,829.00</td>\n",
       "      <td>177,724,852.00</td>\n",
       "      <td>1,045,713,802.00</td>\n",
       "    </tr>\n",
       "    <tr>\n",
       "      <th>11</th>\n",
       "      <td>217.00</td>\n",
       "      <td>132,190,472.05</td>\n",
       "      <td>214,477,107.21</td>\n",
       "      <td>0.00</td>\n",
       "      <td>382,174.00</td>\n",
       "      <td>43,058,898.00</td>\n",
       "      <td>165,184,237.00</td>\n",
       "      <td>1,274,219,009.00</td>\n",
       "    </tr>\n",
       "    <tr>\n",
       "      <th>12</th>\n",
       "      <td>297.00</td>\n",
       "      <td>127,726,988.63</td>\n",
       "      <td>235,425,803.76</td>\n",
       "      <td>0.00</td>\n",
       "      <td>0.00</td>\n",
       "      <td>43,545,364.00</td>\n",
       "      <td>170,877,916.00</td>\n",
       "      <td>2,787,965,087.00</td>\n",
       "    </tr>\n",
       "    <tr>\n",
       "      <th>7</th>\n",
       "      <td>241.00</td>\n",
       "      <td>112,835,536.92</td>\n",
       "      <td>182,507,205.66</td>\n",
       "      <td>0.00</td>\n",
       "      <td>0.00</td>\n",
       "      <td>42,776,760.00</td>\n",
       "      <td>128,884,132.00</td>\n",
       "      <td>1,084,939,099.00</td>\n",
       "    </tr>\n",
       "    <tr>\n",
       "      <th>4</th>\n",
       "      <td>254.00</td>\n",
       "      <td>81,291,255.25</td>\n",
       "      <td>201,251,183.70</td>\n",
       "      <td>0.00</td>\n",
       "      <td>0.00</td>\n",
       "      <td>23,793,662.00</td>\n",
       "      <td>75,147,451.75</td>\n",
       "      <td>1,519,557,910.00</td>\n",
       "    </tr>\n",
       "    <tr>\n",
       "      <th>3</th>\n",
       "      <td>272.00</td>\n",
       "      <td>78,928,418.23</td>\n",
       "      <td>140,459,791.90</td>\n",
       "      <td>0.00</td>\n",
       "      <td>0.00</td>\n",
       "      <td>22,614,578.50</td>\n",
       "      <td>92,996,475.25</td>\n",
       "      <td>1,025,491,110.00</td>\n",
       "    </tr>\n",
       "    <tr>\n",
       "      <th>2</th>\n",
       "      <td>236.00</td>\n",
       "      <td>62,015,078.56</td>\n",
       "      <td>91,918,559.54</td>\n",
       "      <td>0.00</td>\n",
       "      <td>0.00</td>\n",
       "      <td>29,131,234.50</td>\n",
       "      <td>83,748,268.50</td>\n",
       "      <td>611,899,420.00</td>\n",
       "    </tr>\n",
       "    <tr>\n",
       "      <th>10</th>\n",
       "      <td>338.00</td>\n",
       "      <td>59,945,832.96</td>\n",
       "      <td>129,352,776.19</td>\n",
       "      <td>0.00</td>\n",
       "      <td>0.00</td>\n",
       "      <td>11,114,510.00</td>\n",
       "      <td>67,198,989.50</td>\n",
       "      <td>1,108,561,013.00</td>\n",
       "    </tr>\n",
       "    <tr>\n",
       "      <th>8</th>\n",
       "      <td>295.00</td>\n",
       "      <td>59,332,268.05</td>\n",
       "      <td>88,722,005.22</td>\n",
       "      <td>0.00</td>\n",
       "      <td>0.00</td>\n",
       "      <td>17,600,000.00</td>\n",
       "      <td>86,111,434.00</td>\n",
       "      <td>482,860,185.00</td>\n",
       "    </tr>\n",
       "    <tr>\n",
       "      <th>9</th>\n",
       "      <td>456.00</td>\n",
       "      <td>42,014,530.83</td>\n",
       "      <td>81,049,974.23</td>\n",
       "      <td>0.00</td>\n",
       "      <td>0.00</td>\n",
       "      <td>10,029,362.00</td>\n",
       "      <td>43,237,307.00</td>\n",
       "      <td>716,392,705.00</td>\n",
       "    </tr>\n",
       "    <tr>\n",
       "      <th>1</th>\n",
       "      <td>298.00</td>\n",
       "      <td>29,581,847.63</td>\n",
       "      <td>51,213,791.71</td>\n",
       "      <td>0.00</td>\n",
       "      <td>0.00</td>\n",
       "      <td>39,369.50</td>\n",
       "      <td>44,175,224.75</td>\n",
       "      <td>355,692,760.00</td>\n",
       "    </tr>\n",
       "  </tbody>\n",
       "</table>\n",
       "</div>"
      ],
      "text/plain": [
       "       count           mean            std  min        25%           50%  \\\n",
       "month                                                                      \n",
       "6     242.00 169,454,081.99 269,320,803.55 0.00       0.00 44,824,500.00   \n",
       "5     243.00 142,403,729.28 237,954,830.01 0.00       0.00 21,148,829.00   \n",
       "11    217.00 132,190,472.05 214,477,107.21 0.00 382,174.00 43,058,898.00   \n",
       "12    297.00 127,726,988.63 235,425,803.76 0.00       0.00 43,545,364.00   \n",
       "7     241.00 112,835,536.92 182,507,205.66 0.00       0.00 42,776,760.00   \n",
       "4     254.00  81,291,255.25 201,251,183.70 0.00       0.00 23,793,662.00   \n",
       "3     272.00  78,928,418.23 140,459,791.90 0.00       0.00 22,614,578.50   \n",
       "2     236.00  62,015,078.56  91,918,559.54 0.00       0.00 29,131,234.50   \n",
       "10    338.00  59,945,832.96 129,352,776.19 0.00       0.00 11,114,510.00   \n",
       "8     295.00  59,332,268.05  88,722,005.22 0.00       0.00 17,600,000.00   \n",
       "9     456.00  42,014,530.83  81,049,974.23 0.00       0.00 10,029,362.00   \n",
       "1     298.00  29,581,847.63  51,213,791.71 0.00       0.00     39,369.50   \n",
       "\n",
       "                 75%              max  \n",
       "month                                  \n",
       "6     214,979,312.50 1,513,528,810.00  \n",
       "5     177,724,852.00 1,045,713,802.00  \n",
       "11    165,184,237.00 1,274,219,009.00  \n",
       "12    170,877,916.00 2,787,965,087.00  \n",
       "7     128,884,132.00 1,084,939,099.00  \n",
       "4      75,147,451.75 1,519,557,910.00  \n",
       "3      92,996,475.25 1,025,491,110.00  \n",
       "2      83,748,268.50   611,899,420.00  \n",
       "10     67,198,989.50 1,108,561,013.00  \n",
       "8      86,111,434.00   482,860,185.00  \n",
       "9      43,237,307.00   716,392,705.00  \n",
       "1      44,175,224.75   355,692,760.00  "
      ]
     },
     "execution_count": 97,
     "metadata": {},
     "output_type": "execute_result"
    }
   ],
   "source": [
    "# thống kê mô tả tập 2010 - 2015\n",
    "revenue_date_2000_grouped.revenue.describe().sort_values('mean', ascending = False)"
   ]
  },
  {
   "cell_type": "code",
   "execution_count": null,
   "metadata": {},
   "outputs": [],
   "source": [
    "Thống kê mô tả giải đoạn 2000 - 2015:\n",
    "- Tháng có nhiều phim phát hành nhất là tháng 9 với 456 phim\n",
    "- Tháng có ít phim phát hành nhất là tháng 11 với 217 phim\n",
    "- Doanh thu TB cao nhất thuộc về các phim phát hành trong tháng 6 ($169.454.082)\n",
    "- Doanh thu TB thấp nhất thuộc về các phim phát hành trong tháng 1 ($29.581.848)\n",
    "- Ta thấy các tháng cao điểm có doanh thu TB cao nhất là 5,6,7 (mùa hè) và 11,12 (mùa Giáng Sinh)"
   ]
  },
  {
   "cell_type": "code",
   "execution_count": 98,
   "metadata": {},
   "outputs": [
    {
     "data": {
      "text/html": [
       "<div>\n",
       "<style scoped>\n",
       "    .dataframe tbody tr th:only-of-type {\n",
       "        vertical-align: middle;\n",
       "    }\n",
       "\n",
       "    .dataframe tbody tr th {\n",
       "        vertical-align: top;\n",
       "    }\n",
       "\n",
       "    .dataframe thead th {\n",
       "        text-align: right;\n",
       "    }\n",
       "</style>\n",
       "<table border=\"1\" class=\"dataframe\">\n",
       "  <thead>\n",
       "    <tr style=\"text-align: right;\">\n",
       "      <th></th>\n",
       "      <th>count</th>\n",
       "      <th>mean</th>\n",
       "      <th>std</th>\n",
       "      <th>min</th>\n",
       "      <th>25%</th>\n",
       "      <th>50%</th>\n",
       "      <th>75%</th>\n",
       "      <th>max</th>\n",
       "    </tr>\n",
       "    <tr>\n",
       "      <th>month</th>\n",
       "      <th></th>\n",
       "      <th></th>\n",
       "      <th></th>\n",
       "      <th></th>\n",
       "      <th></th>\n",
       "      <th></th>\n",
       "      <th></th>\n",
       "      <th></th>\n",
       "    </tr>\n",
       "  </thead>\n",
       "  <tbody>\n",
       "    <tr>\n",
       "      <th>6</th>\n",
       "      <td>389.00</td>\n",
       "      <td>152,284,543.23</td>\n",
       "      <td>237,112,335.55</td>\n",
       "      <td>0.00</td>\n",
       "      <td>572,809.00</td>\n",
       "      <td>46,770,602.00</td>\n",
       "      <td>205,366,737.00</td>\n",
       "      <td>1,513,528,810.00</td>\n",
       "    </tr>\n",
       "    <tr>\n",
       "      <th>5</th>\n",
       "      <td>363.00</td>\n",
       "      <td>133,930,132.69</td>\n",
       "      <td>219,518,970.25</td>\n",
       "      <td>0.00</td>\n",
       "      <td>0.00</td>\n",
       "      <td>21,268,532.00</td>\n",
       "      <td>180,527,175.00</td>\n",
       "      <td>1,045,713,802.00</td>\n",
       "    </tr>\n",
       "    <tr>\n",
       "      <th>11</th>\n",
       "      <td>327.00</td>\n",
       "      <td>128,491,985.78</td>\n",
       "      <td>212,170,225.19</td>\n",
       "      <td>0.00</td>\n",
       "      <td>2,755,644.00</td>\n",
       "      <td>44,196,684.00</td>\n",
       "      <td>164,458,967.00</td>\n",
       "      <td>1,845,034,188.00</td>\n",
       "    </tr>\n",
       "    <tr>\n",
       "      <th>7</th>\n",
       "      <td>363.00</td>\n",
       "      <td>111,576,797.43</td>\n",
       "      <td>170,652,844.43</td>\n",
       "      <td>0.00</td>\n",
       "      <td>103,182.50</td>\n",
       "      <td>44,107,032.00</td>\n",
       "      <td>140,781,874.50</td>\n",
       "      <td>1,084,939,099.00</td>\n",
       "    </tr>\n",
       "    <tr>\n",
       "      <th>12</th>\n",
       "      <td>456.00</td>\n",
       "      <td>111,358,349.43</td>\n",
       "      <td>199,660,751.29</td>\n",
       "      <td>0.00</td>\n",
       "      <td>22.25</td>\n",
       "      <td>40,990,244.50</td>\n",
       "      <td>155,133,543.00</td>\n",
       "      <td>2,787,965,087.00</td>\n",
       "    </tr>\n",
       "    <tr>\n",
       "      <th>4</th>\n",
       "      <td>350.00</td>\n",
       "      <td>73,927,619.96</td>\n",
       "      <td>194,087,250.86</td>\n",
       "      <td>0.00</td>\n",
       "      <td>0.00</td>\n",
       "      <td>14,404,264.50</td>\n",
       "      <td>65,237,011.75</td>\n",
       "      <td>1,519,557,910.00</td>\n",
       "    </tr>\n",
       "    <tr>\n",
       "      <th>3</th>\n",
       "      <td>372.00</td>\n",
       "      <td>73,103,155.16</td>\n",
       "      <td>135,497,845.51</td>\n",
       "      <td>0.00</td>\n",
       "      <td>0.00</td>\n",
       "      <td>20,282,391.00</td>\n",
       "      <td>85,594,919.75</td>\n",
       "      <td>1,025,491,110.00</td>\n",
       "    </tr>\n",
       "    <tr>\n",
       "      <th>2</th>\n",
       "      <td>326.00</td>\n",
       "      <td>56,138,419.17</td>\n",
       "      <td>92,589,160.39</td>\n",
       "      <td>0.00</td>\n",
       "      <td>0.00</td>\n",
       "      <td>19,323,235.00</td>\n",
       "      <td>74,279,898.75</td>\n",
       "      <td>783,112,979.00</td>\n",
       "    </tr>\n",
       "    <tr>\n",
       "      <th>8</th>\n",
       "      <td>413.00</td>\n",
       "      <td>55,804,753.57</td>\n",
       "      <td>93,904,125.15</td>\n",
       "      <td>0.00</td>\n",
       "      <td>0.00</td>\n",
       "      <td>16,800,000.00</td>\n",
       "      <td>73,762,516.00</td>\n",
       "      <td>745,000,000.00</td>\n",
       "    </tr>\n",
       "    <tr>\n",
       "      <th>10</th>\n",
       "      <td>474.00</td>\n",
       "      <td>52,896,292.74</td>\n",
       "      <td>115,263,016.80</td>\n",
       "      <td>0.00</td>\n",
       "      <td>0.00</td>\n",
       "      <td>10,709,678.50</td>\n",
       "      <td>55,917,343.50</td>\n",
       "      <td>1,108,561,013.00</td>\n",
       "    </tr>\n",
       "    <tr>\n",
       "      <th>9</th>\n",
       "      <td>588.00</td>\n",
       "      <td>39,991,963.05</td>\n",
       "      <td>77,803,552.74</td>\n",
       "      <td>0.00</td>\n",
       "      <td>0.00</td>\n",
       "      <td>8,285,647.50</td>\n",
       "      <td>42,050,410.75</td>\n",
       "      <td>716,392,705.00</td>\n",
       "    </tr>\n",
       "    <tr>\n",
       "      <th>1</th>\n",
       "      <td>382.00</td>\n",
       "      <td>28,634,063.32</td>\n",
       "      <td>54,537,642.11</td>\n",
       "      <td>0.00</td>\n",
       "      <td>0.00</td>\n",
       "      <td>198,425.50</td>\n",
       "      <td>38,023,401.00</td>\n",
       "      <td>521,170,825.00</td>\n",
       "    </tr>\n",
       "  </tbody>\n",
       "</table>\n",
       "</div>"
      ],
      "text/plain": [
       "       count           mean            std  min          25%           50%  \\\n",
       "month                                                                        \n",
       "6     389.00 152,284,543.23 237,112,335.55 0.00   572,809.00 46,770,602.00   \n",
       "5     363.00 133,930,132.69 219,518,970.25 0.00         0.00 21,268,532.00   \n",
       "11    327.00 128,491,985.78 212,170,225.19 0.00 2,755,644.00 44,196,684.00   \n",
       "7     363.00 111,576,797.43 170,652,844.43 0.00   103,182.50 44,107,032.00   \n",
       "12    456.00 111,358,349.43 199,660,751.29 0.00        22.25 40,990,244.50   \n",
       "4     350.00  73,927,619.96 194,087,250.86 0.00         0.00 14,404,264.50   \n",
       "3     372.00  73,103,155.16 135,497,845.51 0.00         0.00 20,282,391.00   \n",
       "2     326.00  56,138,419.17  92,589,160.39 0.00         0.00 19,323,235.00   \n",
       "8     413.00  55,804,753.57  93,904,125.15 0.00         0.00 16,800,000.00   \n",
       "10    474.00  52,896,292.74 115,263,016.80 0.00         0.00 10,709,678.50   \n",
       "9     588.00  39,991,963.05  77,803,552.74 0.00         0.00  8,285,647.50   \n",
       "1     382.00  28,634,063.32  54,537,642.11 0.00         0.00    198,425.50   \n",
       "\n",
       "                 75%              max  \n",
       "month                                  \n",
       "6     205,366,737.00 1,513,528,810.00  \n",
       "5     180,527,175.00 1,045,713,802.00  \n",
       "11    164,458,967.00 1,845,034,188.00  \n",
       "7     140,781,874.50 1,084,939,099.00  \n",
       "12    155,133,543.00 2,787,965,087.00  \n",
       "4      65,237,011.75 1,519,557,910.00  \n",
       "3      85,594,919.75 1,025,491,110.00  \n",
       "2      74,279,898.75   783,112,979.00  \n",
       "8      73,762,516.00   745,000,000.00  \n",
       "10     55,917,343.50 1,108,561,013.00  \n",
       "9      42,050,410.75   716,392,705.00  \n",
       "1      38,023,401.00   521,170,825.00  "
      ]
     },
     "execution_count": 98,
     "metadata": {},
     "output_type": "execute_result"
    }
   ],
   "source": [
    "# thống kê mô tả tập tổng thể\n",
    "revenue_date_grouped.revenue.describe().sort_values('mean', ascending = False)"
   ]
  },
  {
   "cell_type": "code",
   "execution_count": null,
   "metadata": {},
   "outputs": [],
   "source": [
    "Thống kê mô tả tập tổng thể:\n",
    "- Tháng có nhiều phim phát hành nhất là tháng 9 với 588 phim\n",
    "- Tháng có ít phim phát hành nhất là tháng 2 với 326 phim\n",
    "- Doanh thu TB cao nhất thuộc về các phim phát hành trong tháng 6 ($152.284.543)\n",
    "- Doanh thu TB thấp nhất thuộc về các phim phát hành trong tháng 1 ($28.634.063)\n",
    "- Ta thấy các tháng cao điểm có doanh thu TB cao nhất là 5,6,7 (mùa hè) và 11,12 (mùa Giáng Sinh)"
   ]
  },
  {
   "cell_type": "code",
   "execution_count": null,
   "metadata": {},
   "outputs": [],
   "source": [
    "Nhận xét: như vậy về cơ bản tập dữ liệu tổng thể và tập giai đoạn 2000 - 2015 là khá giống nhau. Từ thống kê mô tả ta đặt ra giả\n",
    "thuyết rằng phim phát hành trong các tháng cao điểm mùa hè 5, 6, 7 và Giáng Sinh 11, 12 sẽ có doanh thu tốt hơn các tháng còn lại\n",
    "trong năm"
   ]
  },
  {
   "cell_type": "code",
   "execution_count": null,
   "metadata": {},
   "outputs": [],
   "source": [
    "3. Kiểm định giả thuyết bằng kiểm định Mann-Whitney"
   ]
  },
  {
   "cell_type": "code",
   "execution_count": null,
   "metadata": {},
   "outputs": [],
   "source": [
    "Do phân phối của biến 'revenue' không đáp ứng yêu cầu về phân phối chuẩn (như đã phân tích ở trên) nên ta sử dụng kiểm định phi\n",
    "tham số Mann-Whitney để kiểm định giả thuyết nêu trên"
   ]
  },
  {
   "cell_type": "code",
   "execution_count": 99,
   "metadata": {},
   "outputs": [
    {
     "name": "stdout",
     "output_type": "stream",
     "text": [
      "F statistic: 1070633.000000\n",
      "p_value: 0.000000\n"
     ]
    }
   ],
   "source": [
    "# kiểm định cho giai đoạn 2000 - 2015\n",
    "high_season = revenue_date_2000[revenue_date_2000.month.isin([5,6,7,11,12])].revenue\n",
    "low_season = revenue_date_2000[~(revenue_date_2000.month.isin([5,6,7,11,12]))].revenue\n",
    "stat, p_value = stats.mannwhitneyu(high_season, low_season)\n",
    "print('F statistic: %f' %stat)\n",
    "print('p_value: %f' %p_value)"
   ]
  },
  {
   "cell_type": "code",
   "execution_count": null,
   "metadata": {},
   "outputs": [],
   "source": [
    "- Với mức ý nghĩa 5% và p_value = 0,00, chúng ta bác bỏ giả thuyết Ho về doanh thu trung bình giữa các nhóm là bằng nhau"
   ]
  },
  {
   "cell_type": "code",
   "execution_count": 100,
   "metadata": {},
   "outputs": [
    {
     "name": "stdout",
     "output_type": "stream",
     "text": [
      "F statistic: 2103586.500000\n",
      "p_value: 0.000000\n"
     ]
    }
   ],
   "source": [
    "# kiểm định cho tập tổng thể\n",
    "high_season = revenue_date[revenue_date.month.isin([5,6,7,11,12])].revenue\n",
    "low_season = revenue_date[~(revenue_date.month.isin([5,6,7,11,12]))].revenue\n",
    "stat, p_value = stats.mannwhitneyu(high_season, low_season)\n",
    "print('F statistic: %f' %stat)\n",
    "print('p_value: %f' %p_value)"
   ]
  },
  {
   "cell_type": "code",
   "execution_count": null,
   "metadata": {},
   "outputs": [],
   "source": [
    "- Với mức ý nghĩa 5% và p_value = 0,00, chúng ta bác bỏ giả thuyết Ho về doanh thu trung bình giữa các nhóm là bằng nhau"
   ]
  },
  {
   "cell_type": "code",
   "execution_count": null,
   "metadata": {},
   "outputs": [],
   "source": [
    "4. Kết luận"
   ]
  },
  {
   "cell_type": "code",
   "execution_count": null,
   "metadata": {},
   "outputs": [],
   "source": [
    "- Như vậy, doanh thu phim phát hành mùa cao điểm cao hơn doanh thu phát hành vào các mùa thấp điểm\n",
    "- Mùa cao điểm là các tháng 5 , tháng 6, tháng 7 (mùa hè) và tháng 11, tháng 12 (mùa Giáng Sinh)"
   ]
  }
 ],
 "metadata": {
  "kernelspec": {
   "display_name": "Python 3",
   "language": "python",
   "name": "python3"
  },
  "language_info": {
   "codemirror_mode": {
    "name": "ipython",
    "version": 3
   },
   "file_extension": ".py",
   "mimetype": "text/x-python",
   "name": "python",
   "nbconvert_exporter": "python",
   "pygments_lexer": "ipython3",
   "version": "3.7.0"
  }
 },
 "nbformat": 4,
 "nbformat_minor": 2
}
